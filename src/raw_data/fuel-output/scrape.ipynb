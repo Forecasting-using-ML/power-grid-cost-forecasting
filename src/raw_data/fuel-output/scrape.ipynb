{
 "cells": [
  {
   "cell_type": "markdown",
   "metadata": {},
   "source": [
    "# NYISO (Fuel)\n",
    "\n",
    "This notebook scrapes Zip Files of csv data from NYISO.\n",
    "\n",
    "- [IRC](http://www.isorto.org/About/Members/NYISO)\n",
    "- [NYISO](http://www.nyiso.com/public/markets_operations/market_data/graphs/index.jsp?load=pie)\n",
    "- [NYISO Datasets](http://mis.nyiso.com/public/P-63list.htm)"
   ]
  },
  {
   "cell_type": "code",
   "execution_count": 1,
   "metadata": {},
   "outputs": [],
   "source": [
    "import pandas as pd\n",
    "import base\n",
    "from scrape import get_zip_file, get_zip_files"
   ]
  },
  {
   "cell_type": "code",
   "execution_count": 2,
   "metadata": {},
   "outputs": [],
   "source": [
    "ENDPOINT = 'http://mis.nyiso.com/public/csv/rtfuelmix/{}rtfuelmix_csv.zip'"
   ]
  },
  {
   "cell_type": "code",
   "execution_count": 3,
   "metadata": {},
   "outputs": [],
   "source": [
    "get_zip_file(ENDPOINT, pd.to_datetime('12/1/2015'), 'test')"
   ]
  },
  {
   "cell_type": "code",
   "execution_count": 4,
   "metadata": {},
   "outputs": [
    {
     "name": "stderr",
     "output_type": "stream",
     "text": [
      "100%|██████████| 32/32 [00:22<00:00,  1.39dataset/s]\n"
     ]
    }
   ],
   "source": [
    "start = pd.to_datetime('12/1/2015')\n",
    "finish = pd.to_datetime('7/2/2018')\n",
    "get_zip_files(ENDPOINT, start, finish, 'data')"
   ]
  },
  {
   "cell_type": "markdown",
   "metadata": {},
   "source": [
    " "
   ]
  }
 ],
 "metadata": {
  "kernelspec": {
   "display_name": "Python 3",
   "language": "python",
   "name": "python3"
  },
  "language_info": {
   "codemirror_mode": {
    "name": "ipython",
    "version": 3
   },
   "file_extension": ".py",
   "mimetype": "text/x-python",
   "name": "python",
   "nbconvert_exporter": "python",
   "pygments_lexer": "ipython3",
   "version": "3.5.2"
  }
 },
 "nbformat": 4,
 "nbformat_minor": 2
}
