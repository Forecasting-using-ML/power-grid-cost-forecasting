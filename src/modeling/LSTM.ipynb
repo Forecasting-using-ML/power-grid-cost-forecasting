{
 "cells": [
  {
   "cell_type": "markdown",
   "metadata": {},
   "source": [
    "# Imports"
   ]
  },
  {
   "cell_type": "code",
   "execution_count": 1,
   "metadata": {},
   "outputs": [
    {
     "name": "stderr",
     "output_type": "stream",
     "text": [
      "/usr/local/lib/python3.6/site-packages/h5py/__init__.py:36: FutureWarning: Conversion of the second argument of issubdtype from `float` to `np.floating` is deprecated. In future, it will be treated as `np.float64 == np.dtype(float).type`.\n",
      "  from ._conv import register_converters as _register_converters\n"
     ]
    }
   ],
   "source": [
    "import numpy as np\n",
    "np.random.seed(1)\n",
    "import tensorflow\n",
    "tensorflow.set_random_seed(1)"
   ]
  },
  {
   "cell_type": "code",
   "execution_count": 2,
   "metadata": {},
   "outputs": [],
   "source": [
    "import os\n",
    "import pandas as pd\n",
    "from matplotlib import pyplot as plt\n",
    "%matplotlib inline"
   ]
  },
  {
   "cell_type": "code",
   "execution_count": 3,
   "metadata": {},
   "outputs": [
    {
     "name": "stderr",
     "output_type": "stream",
     "text": [
      "Using TensorFlow backend.\n"
     ]
    }
   ],
   "source": [
    "from sklearn.metrics import mean_squared_error\n",
    "from keras.models import Model\n",
    "from keras.models import Sequential\n",
    "from keras.layers import LSTM\n",
    "from keras.layers import Dense\n",
    "from keras.optimizers import Nadam, Adam\n",
    "from keras.wrappers.scikit_learn import KerasClassifier\n",
    "from keras import backend as K\n",
    "from keras.utils.vis_utils import model_to_dot\n",
    "from IPython.display import SVG"
   ]
  },
  {
   "cell_type": "code",
   "execution_count": 4,
   "metadata": {},
   "outputs": [],
   "source": [
    "if not os.path.exists('results'):\n",
    "    os.makedirs('results')"
   ]
  },
  {
   "cell_type": "markdown",
   "metadata": {},
   "source": [
    "# Dataset"
   ]
  },
  {
   "cell_type": "code",
   "execution_count": 5,
   "metadata": {},
   "outputs": [],
   "source": [
    "train = pd.read_csv('../feature_engineering/train.gz')\n",
    "X_train = train[train.columns[:-1]].values\n",
    "X_train /= 20000\n",
    "X_train = X_train.reshape(X_train.shape[0], 1, X_train.shape[1])\n",
    "y_train = train[train.columns[-1]].values\n",
    "y_train /= 1000"
   ]
  },
  {
   "cell_type": "code",
   "execution_count": 6,
   "metadata": {},
   "outputs": [
    {
     "data": {
      "text/plain": [
       "(21161, 1, 11)"
      ]
     },
     "execution_count": 6,
     "metadata": {},
     "output_type": "execute_result"
    }
   ],
   "source": [
    "X_train.shape"
   ]
  },
  {
   "cell_type": "code",
   "execution_count": 7,
   "metadata": {},
   "outputs": [
    {
     "data": {
      "text/plain": [
       "(21161,)"
      ]
     },
     "execution_count": 7,
     "metadata": {},
     "output_type": "execute_result"
    }
   ],
   "source": [
    "y_train.shape"
   ]
  },
  {
   "cell_type": "code",
   "execution_count": 8,
   "metadata": {},
   "outputs": [],
   "source": [
    "test = pd.read_csv('../feature_engineering/test.gz')\n",
    "X_test = test[test.columns[:-1]].values\n",
    "X_test /= 20000\n",
    "X_test = X_test.reshape(X_test.shape[0], 1, X_test.shape[1])\n",
    "y_test = test[test.columns[-1]].values\n",
    "y_test /= 1000"
   ]
  },
  {
   "cell_type": "code",
   "execution_count": 9,
   "metadata": {},
   "outputs": [
    {
     "data": {
      "text/plain": [
       "(767, 1, 11)"
      ]
     },
     "execution_count": 9,
     "metadata": {},
     "output_type": "execute_result"
    }
   ],
   "source": [
    "X_test.shape"
   ]
  },
  {
   "cell_type": "code",
   "execution_count": 10,
   "metadata": {},
   "outputs": [
    {
     "data": {
      "text/plain": [
       "(767,)"
      ]
     },
     "execution_count": 10,
     "metadata": {},
     "output_type": "execute_result"
    }
   ],
   "source": [
    "y_test.shape"
   ]
  },
  {
   "cell_type": "markdown",
   "metadata": {},
   "source": [
    "# Architecture"
   ]
  },
  {
   "cell_type": "code",
   "execution_count": 11,
   "metadata": {},
   "outputs": [],
   "source": [
    "def build_model(input_shape: tuple) -> Model:\n",
    "    \"\"\"\n",
    "    Build and compile a neural model.\n",
    "\n",
    "    Args:\n",
    "        input_shape: the input shape for the network\n",
    "\n",
    "    Returns:\n",
    "        a compiled sequential model with given input shape\n",
    "\n",
    "    \"\"\"\n",
    "    # clear the Keras session (only applies to keras models, but \n",
    "    # wont hurt sklearn ones to call this.\n",
    "    K.clear_session()\n",
    "    # create a sequential model with LSTM layers    \n",
    "    model = Sequential([\n",
    "        LSTM(100, input_shape=input_shape, return_sequences=True),\n",
    "        LSTM(100, return_sequences=True),\n",
    "        LSTM(100),\n",
    "        Dense(1)\n",
    "    ])\n",
    "    # compile the model\n",
    "    model.compile(\n",
    "        loss='mean_squared_error', \n",
    "        optimizer=Adam(),\n",
    "    )\n",
    "\n",
    "    return model"
   ]
  },
  {
   "cell_type": "code",
   "execution_count": 12,
   "metadata": {},
   "outputs": [
    {
     "data": {
      "text/plain": [
       "<keras.models.Sequential at 0x121ce80b8>"
      ]
     },
     "execution_count": 12,
     "metadata": {},
     "output_type": "execute_result"
    }
   ],
   "source": [
    "model = build_model((X_train.shape[1], X_train.shape[2]))\n",
    "model"
   ]
  },
  {
   "cell_type": "code",
   "execution_count": 13,
   "metadata": {},
   "outputs": [
    {
     "data": {
      "image/svg+xml": [
       "<svg height=\"377pt\" viewBox=\"0.00 0.00 232.00 377.00\" width=\"232pt\" xmlns=\"http://www.w3.org/2000/svg\" xmlns:xlink=\"http://www.w3.org/1999/xlink\">\n",
       "<g class=\"graph\" id=\"graph0\" transform=\"scale(1 1) rotate(0) translate(4 373)\">\n",
       "<title>G</title>\n",
       "<polygon fill=\"#ffffff\" points=\"-4,4 -4,-373 227.998,-373 227.998,4 -4,4\" stroke=\"transparent\"/>\n",
       "<!-- 4863906480 -->\n",
       "<g class=\"node\" id=\"node1\">\n",
       "<title>4863906480</title>\n",
       "<polygon fill=\"none\" points=\"0,-324.5 0,-368.5 223.998,-368.5 223.998,-324.5 0,-324.5\" stroke=\"#000000\"/>\n",
       "<text fill=\"#000000\" font-family=\"Times,serif\" font-size=\"14.00\" text-anchor=\"middle\" x=\"39.0967\" y=\"-342.3\">InputLayer</text>\n",
       "<polyline fill=\"none\" points=\"78.1934,-324.5 78.1934,-368.5 \" stroke=\"#000000\"/>\n",
       "<text fill=\"#000000\" font-family=\"Times,serif\" font-size=\"14.00\" text-anchor=\"middle\" x=\"106.0278\" y=\"-353.3\">input:</text>\n",
       "<polyline fill=\"none\" points=\"78.1934,-346.5 133.8623,-346.5 \" stroke=\"#000000\"/>\n",
       "<text fill=\"#000000\" font-family=\"Times,serif\" font-size=\"14.00\" text-anchor=\"middle\" x=\"106.0278\" y=\"-331.3\">output:</text>\n",
       "<polyline fill=\"none\" points=\"133.8623,-324.5 133.8623,-368.5 \" stroke=\"#000000\"/>\n",
       "<text fill=\"#000000\" font-family=\"Times,serif\" font-size=\"14.00\" text-anchor=\"middle\" x=\"178.9302\" y=\"-353.3\">(None, 1, 11)</text>\n",
       "<polyline fill=\"none\" points=\"133.8623,-346.5 223.998,-346.5 \" stroke=\"#000000\"/>\n",
       "<text fill=\"#000000\" font-family=\"Times,serif\" font-size=\"14.00\" text-anchor=\"middle\" x=\"178.9302\" y=\"-331.3\">(None, 1, 11)</text>\n",
       "</g>\n",
       "<!-- 4863909560 -->\n",
       "<g class=\"node\" id=\"node2\">\n",
       "<title>4863909560</title>\n",
       "<polygon fill=\"none\" points=\"8.6714,-243.5 8.6714,-287.5 215.3267,-287.5 215.3267,-243.5 8.6714,-243.5\" stroke=\"#000000\"/>\n",
       "<text fill=\"#000000\" font-family=\"Times,serif\" font-size=\"14.00\" text-anchor=\"middle\" x=\"35.3403\" y=\"-261.3\">LSTM</text>\n",
       "<polyline fill=\"none\" points=\"62.0093,-243.5 62.0093,-287.5 \" stroke=\"#000000\"/>\n",
       "<text fill=\"#000000\" font-family=\"Times,serif\" font-size=\"14.00\" text-anchor=\"middle\" x=\"89.8438\" y=\"-272.3\">input:</text>\n",
       "<polyline fill=\"none\" points=\"62.0093,-265.5 117.6782,-265.5 \" stroke=\"#000000\"/>\n",
       "<text fill=\"#000000\" font-family=\"Times,serif\" font-size=\"14.00\" text-anchor=\"middle\" x=\"89.8438\" y=\"-250.3\">output:</text>\n",
       "<polyline fill=\"none\" points=\"117.6782,-243.5 117.6782,-287.5 \" stroke=\"#000000\"/>\n",
       "<text fill=\"#000000\" font-family=\"Times,serif\" font-size=\"14.00\" text-anchor=\"middle\" x=\"166.2461\" y=\"-272.3\">(None, 1, 11)</text>\n",
       "<polyline fill=\"none\" points=\"117.6782,-265.5 215.3267,-265.5 \" stroke=\"#000000\"/>\n",
       "<text fill=\"#000000\" font-family=\"Times,serif\" font-size=\"14.00\" text-anchor=\"middle\" x=\"166.5024\" y=\"-250.3\">(None, 1, 100)</text>\n",
       "</g>\n",
       "<!-- 4863906480&#45;&gt;4863909560 -->\n",
       "<g class=\"edge\" id=\"edge1\">\n",
       "<title>4863906480-&gt;4863909560</title>\n",
       "<path d=\"M111.999,-324.3664C111.999,-316.1516 111.999,-306.6579 111.999,-297.7252\" fill=\"none\" stroke=\"#000000\"/>\n",
       "<polygon fill=\"#000000\" points=\"115.4991,-297.6068 111.999,-287.6068 108.4991,-297.6069 115.4991,-297.6068\" stroke=\"#000000\"/>\n",
       "</g>\n",
       "<!-- 4864009944 -->\n",
       "<g class=\"node\" id=\"node3\">\n",
       "<title>4864009944</title>\n",
       "<polygon fill=\"none\" points=\"8.6714,-162.5 8.6714,-206.5 215.3267,-206.5 215.3267,-162.5 8.6714,-162.5\" stroke=\"#000000\"/>\n",
       "<text fill=\"#000000\" font-family=\"Times,serif\" font-size=\"14.00\" text-anchor=\"middle\" x=\"35.3403\" y=\"-180.3\">LSTM</text>\n",
       "<polyline fill=\"none\" points=\"62.0093,-162.5 62.0093,-206.5 \" stroke=\"#000000\"/>\n",
       "<text fill=\"#000000\" font-family=\"Times,serif\" font-size=\"14.00\" text-anchor=\"middle\" x=\"89.8438\" y=\"-191.3\">input:</text>\n",
       "<polyline fill=\"none\" points=\"62.0093,-184.5 117.6782,-184.5 \" stroke=\"#000000\"/>\n",
       "<text fill=\"#000000\" font-family=\"Times,serif\" font-size=\"14.00\" text-anchor=\"middle\" x=\"89.8438\" y=\"-169.3\">output:</text>\n",
       "<polyline fill=\"none\" points=\"117.6782,-162.5 117.6782,-206.5 \" stroke=\"#000000\"/>\n",
       "<text fill=\"#000000\" font-family=\"Times,serif\" font-size=\"14.00\" text-anchor=\"middle\" x=\"166.5024\" y=\"-191.3\">(None, 1, 100)</text>\n",
       "<polyline fill=\"none\" points=\"117.6782,-184.5 215.3267,-184.5 \" stroke=\"#000000\"/>\n",
       "<text fill=\"#000000\" font-family=\"Times,serif\" font-size=\"14.00\" text-anchor=\"middle\" x=\"166.5024\" y=\"-169.3\">(None, 1, 100)</text>\n",
       "</g>\n",
       "<!-- 4863909560&#45;&gt;4864009944 -->\n",
       "<g class=\"edge\" id=\"edge2\">\n",
       "<title>4863909560-&gt;4864009944</title>\n",
       "<path d=\"M111.999,-243.3664C111.999,-235.1516 111.999,-225.6579 111.999,-216.7252\" fill=\"none\" stroke=\"#000000\"/>\n",
       "<polygon fill=\"#000000\" points=\"115.4991,-216.6068 111.999,-206.6068 108.4991,-216.6069 115.4991,-216.6068\" stroke=\"#000000\"/>\n",
       "</g>\n",
       "<!-- 4864010952 -->\n",
       "<g class=\"node\" id=\"node4\">\n",
       "<title>4864010952</title>\n",
       "<polygon fill=\"none\" points=\"8.6714,-81.5 8.6714,-125.5 215.3267,-125.5 215.3267,-81.5 8.6714,-81.5\" stroke=\"#000000\"/>\n",
       "<text fill=\"#000000\" font-family=\"Times,serif\" font-size=\"14.00\" text-anchor=\"middle\" x=\"35.3403\" y=\"-99.3\">LSTM</text>\n",
       "<polyline fill=\"none\" points=\"62.0093,-81.5 62.0093,-125.5 \" stroke=\"#000000\"/>\n",
       "<text fill=\"#000000\" font-family=\"Times,serif\" font-size=\"14.00\" text-anchor=\"middle\" x=\"89.8438\" y=\"-110.3\">input:</text>\n",
       "<polyline fill=\"none\" points=\"62.0093,-103.5 117.6782,-103.5 \" stroke=\"#000000\"/>\n",
       "<text fill=\"#000000\" font-family=\"Times,serif\" font-size=\"14.00\" text-anchor=\"middle\" x=\"89.8438\" y=\"-88.3\">output:</text>\n",
       "<polyline fill=\"none\" points=\"117.6782,-81.5 117.6782,-125.5 \" stroke=\"#000000\"/>\n",
       "<text fill=\"#000000\" font-family=\"Times,serif\" font-size=\"14.00\" text-anchor=\"middle\" x=\"166.5024\" y=\"-110.3\">(None, 1, 100)</text>\n",
       "<polyline fill=\"none\" points=\"117.6782,-103.5 215.3267,-103.5 \" stroke=\"#000000\"/>\n",
       "<text fill=\"#000000\" font-family=\"Times,serif\" font-size=\"14.00\" text-anchor=\"middle\" x=\"166.5024\" y=\"-88.3\">(None, 100)</text>\n",
       "</g>\n",
       "<!-- 4864009944&#45;&gt;4864010952 -->\n",
       "<g class=\"edge\" id=\"edge3\">\n",
       "<title>4864009944-&gt;4864010952</title>\n",
       "<path d=\"M111.999,-162.3664C111.999,-154.1516 111.999,-144.6579 111.999,-135.7252\" fill=\"none\" stroke=\"#000000\"/>\n",
       "<polygon fill=\"#000000\" points=\"115.4991,-135.6068 111.999,-125.6068 108.4991,-135.6069 115.4991,-135.6068\" stroke=\"#000000\"/>\n",
       "</g>\n",
       "<!-- 4864011456 -->\n",
       "<g class=\"node\" id=\"node5\">\n",
       "<title>4864011456</title>\n",
       "<polygon fill=\"none\" points=\"16.8472,-.5 16.8472,-44.5 207.1509,-44.5 207.1509,-.5 16.8472,-.5\" stroke=\"#000000\"/>\n",
       "<text fill=\"#000000\" font-family=\"Times,serif\" font-size=\"14.00\" text-anchor=\"middle\" x=\"42.3403\" y=\"-18.3\">Dense</text>\n",
       "<polyline fill=\"none\" points=\"67.8335,-.5 67.8335,-44.5 \" stroke=\"#000000\"/>\n",
       "<text fill=\"#000000\" font-family=\"Times,serif\" font-size=\"14.00\" text-anchor=\"middle\" x=\"95.668\" y=\"-29.3\">input:</text>\n",
       "<polyline fill=\"none\" points=\"67.8335,-22.5 123.5024,-22.5 \" stroke=\"#000000\"/>\n",
       "<text fill=\"#000000\" font-family=\"Times,serif\" font-size=\"14.00\" text-anchor=\"middle\" x=\"95.668\" y=\"-7.3\">output:</text>\n",
       "<polyline fill=\"none\" points=\"123.5024,-.5 123.5024,-44.5 \" stroke=\"#000000\"/>\n",
       "<text fill=\"#000000\" font-family=\"Times,serif\" font-size=\"14.00\" text-anchor=\"middle\" x=\"165.3267\" y=\"-29.3\">(None, 100)</text>\n",
       "<polyline fill=\"none\" points=\"123.5024,-22.5 207.1509,-22.5 \" stroke=\"#000000\"/>\n",
       "<text fill=\"#000000\" font-family=\"Times,serif\" font-size=\"14.00\" text-anchor=\"middle\" x=\"165.3267\" y=\"-7.3\">(None, 1)</text>\n",
       "</g>\n",
       "<!-- 4864010952&#45;&gt;4864011456 -->\n",
       "<g class=\"edge\" id=\"edge4\">\n",
       "<title>4864010952-&gt;4864011456</title>\n",
       "<path d=\"M111.999,-81.3664C111.999,-73.1516 111.999,-63.6579 111.999,-54.7252\" fill=\"none\" stroke=\"#000000\"/>\n",
       "<polygon fill=\"#000000\" points=\"115.4991,-54.6068 111.999,-44.6068 108.4991,-54.6069 115.4991,-54.6068\" stroke=\"#000000\"/>\n",
       "</g>\n",
       "</g>\n",
       "</svg>"
      ],
      "text/plain": [
       "<IPython.core.display.SVG object>"
      ]
     },
     "execution_count": 13,
     "metadata": {},
     "output_type": "execute_result"
    }
   ],
   "source": [
    "arch = model_to_dot(model, show_shapes=True, show_layer_names=False)\n",
    "arch.write_pdf('results/lstm-arch.pdf')\n",
    "SVG(arch.create(prog='dot', format='svg'))"
   ]
  },
  {
   "cell_type": "markdown",
   "metadata": {},
   "source": [
    "# Experiment"
   ]
  },
  {
   "cell_type": "code",
   "execution_count": 14,
   "metadata": {
    "scrolled": true
   },
   "outputs": [
    {
     "name": "stdout",
     "output_type": "stream",
     "text": [
      "Train on 21161 samples, validate on 767 samples\n",
      "Epoch 1/50\n",
      " - 2s - loss: 3.5028e-04 - val_loss: 1.6799e-04\n",
      "Epoch 2/50\n",
      " - 1s - loss: 2.7034e-04 - val_loss: 1.6219e-04\n",
      "Epoch 3/50\n",
      " - 1s - loss: 2.9097e-04 - val_loss: 1.5366e-04\n",
      "Epoch 4/50\n",
      " - 1s - loss: 2.9126e-04 - val_loss: 1.4131e-04\n",
      "Epoch 5/50\n",
      " - 1s - loss: 2.8592e-04 - val_loss: 1.3252e-04\n",
      "Epoch 6/50\n",
      " - 1s - loss: 2.8358e-04 - val_loss: 1.2835e-04\n",
      "Epoch 7/50\n",
      " - 1s - loss: 2.8572e-04 - val_loss: 1.2198e-04\n",
      "Epoch 8/50\n",
      " - 1s - loss: 2.8691e-04 - val_loss: 1.1022e-04\n",
      "Epoch 9/50\n",
      " - 1s - loss: 2.8258e-04 - val_loss: 9.8222e-05\n",
      "Epoch 10/50\n",
      " - 1s - loss: 2.7670e-04 - val_loss: 9.0742e-05\n",
      "Epoch 11/50\n",
      " - 1s - loss: 2.7307e-04 - val_loss: 8.5932e-05\n",
      "Epoch 12/50\n",
      " - 1s - loss: 2.7134e-04 - val_loss: 8.1369e-05\n",
      "Epoch 13/50\n",
      " - 1s - loss: 2.6889e-04 - val_loss: 7.6550e-05\n",
      "Epoch 14/50\n",
      " - 1s - loss: 2.6571e-04 - val_loss: 7.2243e-05\n",
      "Epoch 15/50\n",
      " - 1s - loss: 2.6303e-04 - val_loss: 6.8585e-05\n",
      "Epoch 16/50\n",
      " - 1s - loss: 2.6132e-04 - val_loss: 6.5004e-05\n",
      "Epoch 17/50\n",
      " - 1s - loss: 2.5788e-04 - val_loss: 6.1634e-05\n",
      "Epoch 18/50\n",
      " - 1s - loss: 2.5570e-04 - val_loss: 5.9731e-05\n",
      "Epoch 19/50\n",
      " - 1s - loss: 2.5387e-04 - val_loss: 5.7771e-05\n",
      "Epoch 20/50\n",
      " - 1s - loss: 2.5242e-04 - val_loss: 5.5939e-05\n",
      "Epoch 21/50\n",
      " - 1s - loss: 2.5043e-04 - val_loss: 5.4298e-05\n",
      "Epoch 22/50\n",
      " - 1s - loss: 2.4901e-04 - val_loss: 5.2970e-05\n",
      "Epoch 23/50\n",
      " - 1s - loss: 2.4756e-04 - val_loss: 5.1694e-05\n",
      "Epoch 24/50\n",
      " - 1s - loss: 2.4620e-04 - val_loss: 5.0520e-05\n",
      "Epoch 25/50\n",
      " - 1s - loss: 2.4490e-04 - val_loss: 4.9511e-05\n",
      "Epoch 26/50\n",
      " - 1s - loss: 2.4371e-04 - val_loss: 4.8515e-05\n",
      "Epoch 27/50\n",
      " - 1s - loss: 2.4248e-04 - val_loss: 4.7664e-05\n",
      "Epoch 28/50\n",
      " - 1s - loss: 2.4143e-04 - val_loss: 4.6818e-05\n",
      "Epoch 29/50\n",
      " - 1s - loss: 2.4033e-04 - val_loss: 4.6090e-05\n",
      "Epoch 30/50\n",
      " - 1s - loss: 2.3931e-04 - val_loss: 4.5353e-05\n",
      "Epoch 31/50\n",
      " - 1s - loss: 2.3830e-04 - val_loss: 4.4744e-05\n",
      "Epoch 32/50\n",
      " - 1s - loss: 2.3739e-04 - val_loss: 4.4087e-05\n",
      "Epoch 33/50\n",
      " - 1s - loss: 2.3648e-04 - val_loss: 4.3607e-05\n",
      "Epoch 34/50\n",
      " - 1s - loss: 2.3560e-04 - val_loss: 4.2898e-05\n",
      "Epoch 35/50\n",
      " - 1s - loss: 2.3475e-04 - val_loss: 4.2504e-05\n",
      "Epoch 36/50\n",
      " - 1s - loss: 2.3385e-04 - val_loss: 4.1851e-05\n",
      "Epoch 37/50\n",
      " - 1s - loss: 2.3308e-04 - val_loss: 4.1487e-05\n",
      "Epoch 38/50\n",
      " - 1s - loss: 2.3216e-04 - val_loss: 4.0874e-05\n",
      "Epoch 39/50\n",
      " - 1s - loss: 2.3135e-04 - val_loss: 4.0564e-05\n",
      "Epoch 40/50\n",
      " - 1s - loss: 2.3069e-04 - val_loss: 4.0058e-05\n",
      "Epoch 41/50\n",
      " - 1s - loss: 2.2979e-04 - val_loss: 3.9681e-05\n",
      "Epoch 42/50\n",
      " - 1s - loss: 2.2907e-04 - val_loss: 3.9311e-05\n",
      "Epoch 43/50\n",
      " - 1s - loss: 2.2834e-04 - val_loss: 3.8980e-05\n",
      "Epoch 44/50\n",
      " - 1s - loss: 2.2768e-04 - val_loss: 3.8641e-05\n",
      "Epoch 45/50\n",
      " - 1s - loss: 2.2694e-04 - val_loss: 3.8355e-05\n",
      "Epoch 46/50\n",
      " - 1s - loss: 2.2634e-04 - val_loss: 3.8047e-05\n",
      "Epoch 47/50\n",
      " - 1s - loss: 2.2564e-04 - val_loss: 3.7796e-05\n",
      "Epoch 48/50\n",
      " - 1s - loss: 2.2507e-04 - val_loss: 3.7503e-05\n",
      "Epoch 49/50\n",
      " - 1s - loss: 2.2431e-04 - val_loss: 3.7254e-05\n",
      "Epoch 50/50\n",
      " - 1s - loss: 2.2381e-04 - val_loss: 3.7005e-05\n"
     ]
    }
   ],
   "source": [
    "history = model.fit(X_train, y_train, epochs=50, batch_size=1000, validation_data=(X_test, y_test), verbose=2, shuffle=False)"
   ]
  },
  {
   "cell_type": "code",
   "execution_count": 15,
   "metadata": {},
   "outputs": [],
   "source": [
    "results = pd.DataFrame([history.history['loss'], history.history['val_loss']], index=['train', 'validation']).T"
   ]
  },
  {
   "cell_type": "code",
   "execution_count": 16,
   "metadata": {},
   "outputs": [
    {
     "data": {
      "text/plain": [
       "Text(0.5,0,'Epoch')"
      ]
     },
     "execution_count": 16,
     "metadata": {},
     "output_type": "execute_result"
    },
    {
     "data": {
      "image/png": "[encoded data removed]",
      "text/plain": [
       "<matplotlib.figure.Figure at 0x113da9ba8>"
      ]
     },
     "metadata": {},
     "output_type": "display_data"
    }
   ],
   "source": [
    "ax = results.plot()\n",
    "ax.set_ylabel('Mean Squared Error')\n",
    "ax.set_xlabel('Epoch')"
   ]
  },
  {
   "cell_type": "markdown",
   "metadata": {},
   "source": [
    "# Train Error"
   ]
  },
  {
   "cell_type": "code",
   "execution_count": 17,
   "metadata": {},
   "outputs": [],
   "source": [
    "train_pred = model.predict(X_train).reshape(-1)"
   ]
  },
  {
   "cell_type": "code",
   "execution_count": 18,
   "metadata": {},
   "outputs": [
    {
     "data": {
      "text/plain": [
       "201.0461256539436"
      ]
     },
     "execution_count": 18,
     "metadata": {},
     "output_type": "execute_result"
    }
   ],
   "source": [
    "train_err = mean_squared_error(y_train * 1000, train_pred * 1000)\n",
    "train_err"
   ]
  },
  {
   "cell_type": "code",
   "execution_count": 19,
   "metadata": {},
   "outputs": [],
   "source": [
    "train_df = pd.DataFrame([y_train, train_pred], index=['Truth', 'Predictions']).T * 1000"
   ]
  },
  {
   "cell_type": "code",
   "execution_count": 20,
   "metadata": {},
   "outputs": [
    {
     "data": {
      "image/png": "[encoded data removed]",
      "text/plain": [
       "<matplotlib.figure.Figure at 0x1252a87f0>"
      ]
     },
     "metadata": {},
     "output_type": "display_data"
    }
   ],
   "source": [
    "ax = train_df.plot(figsize=(16, 4))\n",
    "ax.set_ylabel('$\\MWHr')\n",
    "ax.set_xlabel('Time Step')\n",
    "plt.savefig('results/lstm-train.pdf')\n",
    "plt.savefig('results/lstm-train.svg')"
   ]
  },
  {
   "cell_type": "markdown",
   "metadata": {},
   "source": [
    "# Test Error"
   ]
  },
  {
   "cell_type": "code",
   "execution_count": 21,
   "metadata": {},
   "outputs": [],
   "source": [
    "test_pred = model.predict(X_test).reshape(-1)"
   ]
  },
  {
   "cell_type": "code",
   "execution_count": 22,
   "metadata": {},
   "outputs": [
    {
     "data": {
      "text/plain": [
       "37.005321051469885"
      ]
     },
     "execution_count": 22,
     "metadata": {},
     "output_type": "execute_result"
    }
   ],
   "source": [
    "test_err = mean_squared_error(y_test * 1000, test_pred * 1000)\n",
    "test_err"
   ]
  },
  {
   "cell_type": "code",
   "execution_count": 23,
   "metadata": {},
   "outputs": [],
   "source": [
    "test_df = pd.DataFrame([y_test, test_pred], index=['Truth', 'Predictions']).T * 1000"
   ]
  },
  {
   "cell_type": "code",
   "execution_count": 24,
   "metadata": {},
   "outputs": [
    {
     "data": {
      "image/png": "[encoded data removed]",
      "text/plain": [
       "<matplotlib.figure.Figure at 0x1251cd048>"
      ]
     },
     "metadata": {},
     "output_type": "display_data"
    }
   ],
   "source": [
    "ax = test_df.plot(figsize=(16, 4))\n",
    "ax.set_ylabel('$\\MWHr')\n",
    "ax.set_xlabel('Time Step')\n",
    "plt.savefig('results/lstm-test.pdf')\n",
    "plt.savefig('results/lstm-test.svg')"
   ]
  },
  {
   "cell_type": "markdown",
   "metadata": {},
   "source": [
    "# Results"
   ]
  },
  {
   "cell_type": "code",
   "execution_count": 25,
   "metadata": {},
   "outputs": [
    {
     "data": {
      "text/plain": [
       "Train    201.046126\n",
       "Test      37.005321\n",
       "dtype: float64"
      ]
     },
     "execution_count": 25,
     "metadata": {},
     "output_type": "execute_result"
    }
   ],
   "source": [
    "results = pd.Series([train_err, test_err], index=['Train', 'Test'])\n",
    "results"
   ]
  },
  {
   "cell_type": "code",
   "execution_count": 26,
   "metadata": {},
   "outputs": [],
   "source": [
    "results.to_csv('results/lstm-mse.csv')"
   ]
  },
  {
   "cell_type": "markdown",
   "metadata": {},
   "source": [
    " "
   ]
  }
 ],
 "metadata": {
  "kernelspec": {
   "display_name": "Python 3",
   "language": "python",
   "name": "python3"
  },
  "language_info": {
   "codemirror_mode": {
    "name": "ipython",
    "version": 3
   },
   "file_extension": ".py",
   "mimetype": "text/x-python",
   "name": "python",
   "nbconvert_exporter": "python",
   "pygments_lexer": "ipython3",
   "version": "3.6.4"
  },
  "widgets": {
   "application/vnd.jupyter.widget-state+json": {
    "state": {
     "02a4ae165f7f4d18b175960dc059beed": {
      "model_module": "@jupyter-widgets/controls",
      "model_module_version": "1.1.0",
      "model_name": "ProgressStyleModel",
      "state": {
       "description_width": ""
      }
     },
     "076b47e5804345028e7030dad5de1747": {
      "model_module": "@jupyter-widgets/base",
      "model_module_version": "1.0.0",
      "model_name": "LayoutModel",
      "state": {}
     },
     "0a58a3a78a884709b8936a7bf8bb8522": {
      "model_module": "@jupyter-widgets/controls",
      "model_module_version": "1.1.0",
      "model_name": "DescriptionStyleModel",
      "state": {
       "description_width": ""
      }
     },
     "10400e52d77b4c678bb330ff697f8c58": {
      "model_module": "@jupyter-widgets/controls",
      "model_module_version": "1.1.0",
      "model_name": "ProgressStyleModel",
      "state": {
       "description_width": ""
      }
     },
     "1360475d03414b09b95866aa7676f9a1": {
      "model_module": "@jupyter-widgets/controls",
      "model_module_version": "1.1.0",
      "model_name": "HTMLModel",
      "state": {
       "layout": "IPY_MODEL_d8db57675c514c4eb15aecc67fdf0154",
       "style": "IPY_MODEL_755099150bd2485b9736e21836bde211",
       "value": "  0% 0/12 [00:00&lt;?, ?interval/s]"
      }
     },
     "1a392dec047240f99a77dfa54ca3b24a": {
      "model_module": "@jupyter-widgets/controls",
      "model_module_version": "1.1.0",
      "model_name": "HTMLModel",
      "state": {
       "layout": "IPY_MODEL_83f3035b28d048d6ba1d68499b1d47be",
       "style": "IPY_MODEL_0a58a3a78a884709b8936a7bf8bb8522",
       "value": "  0% 0/30 [00:00&lt;?, ?experiment/s]"
      }
     },
     "20fd7abfa28b4365b7d14aee01634185": {
      "model_module": "@jupyter-widgets/controls",
      "model_module_version": "1.1.0",
      "model_name": "HBoxModel",
      "state": {
       "children": [
        "IPY_MODEL_cb260a2ec4dc40f9a756296c0bd170db",
        "IPY_MODEL_433e1a54bc2c4c4d90dabd669a6b2da4"
       ],
       "layout": "IPY_MODEL_acee0a66d5084427a917ef81ed3ae689"
      }
     },
     "27caab26a3bc44189bf43331f3ea6835": {
      "model_module": "@jupyter-widgets/controls",
      "model_module_version": "1.1.0",
      "model_name": "HTMLModel",
      "state": {
       "layout": "IPY_MODEL_acc960591252424f88207e71fdc94935",
       "style": "IPY_MODEL_3a0fd6e2e61c47cc88cbff284696ad53",
       "value": " 80% 24/30 [1:02:32&lt;15:38, 156.36s/experiment]"
      }
     },
     "2df27ee0d2a74ed9a65c3f2ad5744e0e": {
      "model_module": "@jupyter-widgets/controls",
      "model_module_version": "1.1.0",
      "model_name": "ProgressStyleModel",
      "state": {
       "description_width": ""
      }
     },
     "2ff1dfd0affe42589593aefe51e61eab": {
      "model_module": "@jupyter-widgets/base",
      "model_module_version": "1.0.0",
      "model_name": "LayoutModel",
      "state": {}
     },
     "308c194343ba444ca4c2d8dd14e0ab32": {
      "model_module": "@jupyter-widgets/controls",
      "model_module_version": "1.1.0",
      "model_name": "DescriptionStyleModel",
      "state": {
       "description_width": ""
      }
     },
     "35271685582b43209ecc36befce12669": {
      "model_module": "@jupyter-widgets/controls",
      "model_module_version": "1.1.0",
      "model_name": "HBoxModel",
      "state": {
       "children": [
        "IPY_MODEL_3bf0ecf8caa143d98e5fb7d89e643b07",
        "IPY_MODEL_1a392dec047240f99a77dfa54ca3b24a"
       ],
       "layout": "IPY_MODEL_39653e51f70543a58d319997543a49af"
      }
     },
     "391adb8920b9449c8b5edeaebdd41f33": {
      "model_module": "@jupyter-widgets/controls",
      "model_module_version": "1.1.0",
      "model_name": "IntProgressModel",
      "state": {
       "layout": "IPY_MODEL_7504de1353ac4750806ba2ce751694d6",
       "max": 12,
       "style": "IPY_MODEL_f2c44e513bff41febeb3dd4af0df6e06"
      }
     },
     "39653e51f70543a58d319997543a49af": {
      "model_module": "@jupyter-widgets/base",
      "model_module_version": "1.0.0",
      "model_name": "LayoutModel",
      "state": {}
     },
     "3a0fd6e2e61c47cc88cbff284696ad53": {
      "model_module": "@jupyter-widgets/controls",
      "model_module_version": "1.1.0",
      "model_name": "DescriptionStyleModel",
      "state": {
       "description_width": ""
      }
     },
     "3b8d572c742242798a477c182c8fc171": {
      "model_module": "@jupyter-widgets/base",
      "model_module_version": "1.0.0",
      "model_name": "LayoutModel",
      "state": {}
     },
     "3bf0ecf8caa143d98e5fb7d89e643b07": {
      "model_module": "@jupyter-widgets/controls",
      "model_module_version": "1.1.0",
      "model_name": "IntProgressModel",
      "state": {
       "layout": "IPY_MODEL_3b8d572c742242798a477c182c8fc171",
       "max": 30,
       "style": "IPY_MODEL_cb4ff9fa317046648a582f39ff0ed98b"
      }
     },
     "3c21c1da98a549caab1cae0e3ecad77d": {
      "model_module": "@jupyter-widgets/base",
      "model_module_version": "1.0.0",
      "model_name": "LayoutModel",
      "state": {}
     },
     "432ce912ceb642a898f1bfc7e15eff72": {
      "model_module": "@jupyter-widgets/controls",
      "model_module_version": "1.1.0",
      "model_name": "DescriptionStyleModel",
      "state": {
       "description_width": ""
      }
     },
     "433e1a54bc2c4c4d90dabd669a6b2da4": {
      "model_module": "@jupyter-widgets/controls",
      "model_module_version": "1.1.0",
      "model_name": "HTMLModel",
      "state": {
       "layout": "IPY_MODEL_5790b3df5eb8441380cc8b1c021b461c",
       "style": "IPY_MODEL_adbfc0c0d7714550be8ace61138da121",
       "value": "100% 30/30 [7:20:41&lt;00:00, 881.38s/experiment]"
      }
     },
     "460758bbe084429a89c868ba4fcad7a2": {
      "model_module": "@jupyter-widgets/controls",
      "model_module_version": "1.1.0",
      "model_name": "HBoxModel",
      "state": {
       "children": [
        "IPY_MODEL_8a5c79381df349eaaf67368e3d341298",
        "IPY_MODEL_e3d83e1c3eaf4605854af649cbf73271"
       ],
       "layout": "IPY_MODEL_2ff1dfd0affe42589593aefe51e61eab"
      }
     },
     "4850afc1ffa84fd1a4e6fa65d3a108a7": {
      "model_module": "@jupyter-widgets/base",
      "model_module_version": "1.0.0",
      "model_name": "LayoutModel",
      "state": {}
     },
     "496df30ccc404d26960a7784a4b1baa5": {
      "model_module": "@jupyter-widgets/controls",
      "model_module_version": "1.1.0",
      "model_name": "HTMLModel",
      "state": {
       "layout": "IPY_MODEL_a6e788fcc2134d4e9eb587d75ce712f6",
       "style": "IPY_MODEL_308c194343ba444ca4c2d8dd14e0ab32",
       "value": "  0% 0/30 [00:00&lt;?, ?experiment/s]"
      }
     },
     "5790b3df5eb8441380cc8b1c021b461c": {
      "model_module": "@jupyter-widgets/base",
      "model_module_version": "1.0.0",
      "model_name": "LayoutModel",
      "state": {}
     },
     "73be8e8de0a9412bb4453627de8465e9": {
      "model_module": "@jupyter-widgets/controls",
      "model_module_version": "1.1.0",
      "model_name": "IntProgressModel",
      "state": {
       "bar_style": "danger",
       "layout": "IPY_MODEL_ff5c8350864845969058116cf6a102b8",
       "max": 12,
       "style": "IPY_MODEL_10400e52d77b4c678bb330ff697f8c58"
      }
     },
     "7504de1353ac4750806ba2ce751694d6": {
      "model_module": "@jupyter-widgets/base",
      "model_module_version": "1.0.0",
      "model_name": "LayoutModel",
      "state": {}
     },
     "755099150bd2485b9736e21836bde211": {
      "model_module": "@jupyter-widgets/controls",
      "model_module_version": "1.1.0",
      "model_name": "DescriptionStyleModel",
      "state": {
       "description_width": ""
      }
     },
     "7b138f75dc404046a4a15db35897f35e": {
      "model_module": "@jupyter-widgets/base",
      "model_module_version": "1.0.0",
      "model_name": "LayoutModel",
      "state": {}
     },
     "81743f3dcda14543831e53ae0d93591a": {
      "model_module": "@jupyter-widgets/base",
      "model_module_version": "1.0.0",
      "model_name": "LayoutModel",
      "state": {}
     },
     "83f3035b28d048d6ba1d68499b1d47be": {
      "model_module": "@jupyter-widgets/base",
      "model_module_version": "1.0.0",
      "model_name": "LayoutModel",
      "state": {}
     },
     "8a5c79381df349eaaf67368e3d341298": {
      "model_module": "@jupyter-widgets/controls",
      "model_module_version": "1.1.0",
      "model_name": "IntProgressModel",
      "state": {
       "bar_style": "danger",
       "layout": "IPY_MODEL_f529f4d7440b4b4fbb6142f487271d15",
       "max": 12,
       "style": "IPY_MODEL_fbde54ad608f4f09adf1fad9f37cc614"
      }
     },
     "8a9ae41ae53e4600ba94726ab2560630": {
      "model_module": "@jupyter-widgets/controls",
      "model_module_version": "1.1.0",
      "model_name": "IntProgressModel",
      "state": {
       "bar_style": "danger",
       "layout": "IPY_MODEL_e8889d985389404a8b9ae15a2c555aa6",
       "max": 30,
       "style": "IPY_MODEL_02a4ae165f7f4d18b175960dc059beed",
       "value": 24
      }
     },
     "8afe3d9c539541b4920f42fd73908e59": {
      "model_module": "@jupyter-widgets/controls",
      "model_module_version": "1.1.0",
      "model_name": "ProgressStyleModel",
      "state": {
       "description_width": ""
      }
     },
     "8cb01fb1279343219e9d8d6ecbe51c98": {
      "model_module": "@jupyter-widgets/controls",
      "model_module_version": "1.1.0",
      "model_name": "HBoxModel",
      "state": {
       "children": [
        "IPY_MODEL_391adb8920b9449c8b5edeaebdd41f33",
        "IPY_MODEL_1360475d03414b09b95866aa7676f9a1"
       ],
       "layout": "IPY_MODEL_7b138f75dc404046a4a15db35897f35e"
      }
     },
     "9024ac17aedb49908b63666cfe32656d": {
      "model_module": "@jupyter-widgets/controls",
      "model_module_version": "1.1.0",
      "model_name": "HBoxModel",
      "state": {
       "children": [
        "IPY_MODEL_73be8e8de0a9412bb4453627de8465e9",
        "IPY_MODEL_db6a5c8b4ce249988ec6f5e6a660a32e"
       ],
       "layout": "IPY_MODEL_c558edafdc03460aabac068820b0c2ee"
      }
     },
     "9431594f28ab44dca0d04c0b92e16ecb": {
      "model_module": "@jupyter-widgets/base",
      "model_module_version": "1.0.0",
      "model_name": "LayoutModel",
      "state": {}
     },
     "9b66a6beb2eb4730a82019abcf671856": {
      "model_module": "@jupyter-widgets/base",
      "model_module_version": "1.0.0",
      "model_name": "LayoutModel",
      "state": {}
     },
     "a6e788fcc2134d4e9eb587d75ce712f6": {
      "model_module": "@jupyter-widgets/base",
      "model_module_version": "1.0.0",
      "model_name": "LayoutModel",
      "state": {}
     },
     "ab39fa72c3c44ed1a047c6a837c5d765": {
      "model_module": "@jupyter-widgets/controls",
      "model_module_version": "1.1.0",
      "model_name": "HBoxModel",
      "state": {
       "children": [
        "IPY_MODEL_8a9ae41ae53e4600ba94726ab2560630",
        "IPY_MODEL_27caab26a3bc44189bf43331f3ea6835"
       ],
       "layout": "IPY_MODEL_9431594f28ab44dca0d04c0b92e16ecb"
      }
     },
     "acc960591252424f88207e71fdc94935": {
      "model_module": "@jupyter-widgets/base",
      "model_module_version": "1.0.0",
      "model_name": "LayoutModel",
      "state": {}
     },
     "acee0a66d5084427a917ef81ed3ae689": {
      "model_module": "@jupyter-widgets/base",
      "model_module_version": "1.0.0",
      "model_name": "LayoutModel",
      "state": {}
     },
     "adbfc0c0d7714550be8ace61138da121": {
      "model_module": "@jupyter-widgets/controls",
      "model_module_version": "1.1.0",
      "model_name": "DescriptionStyleModel",
      "state": {
       "description_width": ""
      }
     },
     "b20cdbad9f714d9d9e3f5e16a2d0e3f7": {
      "model_module": "@jupyter-widgets/controls",
      "model_module_version": "1.1.0",
      "model_name": "IntProgressModel",
      "state": {
       "bar_style": "danger",
       "layout": "IPY_MODEL_076b47e5804345028e7030dad5de1747",
       "max": 30,
       "style": "IPY_MODEL_8afe3d9c539541b4920f42fd73908e59"
      }
     },
     "bcdf02c702dd4da7b4dc9e8e9a3fccd7": {
      "model_module": "@jupyter-widgets/controls",
      "model_module_version": "1.1.0",
      "model_name": "HBoxModel",
      "state": {
       "children": [
        "IPY_MODEL_b20cdbad9f714d9d9e3f5e16a2d0e3f7",
        "IPY_MODEL_496df30ccc404d26960a7784a4b1baa5"
       ],
       "layout": "IPY_MODEL_3c21c1da98a549caab1cae0e3ecad77d"
      }
     },
     "bfcc555edbf1478fa8b96b61247bce65": {
      "model_module": "@jupyter-widgets/controls",
      "model_module_version": "1.1.0",
      "model_name": "DescriptionStyleModel",
      "state": {
       "description_width": ""
      }
     },
     "c558edafdc03460aabac068820b0c2ee": {
      "model_module": "@jupyter-widgets/base",
      "model_module_version": "1.0.0",
      "model_name": "LayoutModel",
      "state": {}
     },
     "cb260a2ec4dc40f9a756296c0bd170db": {
      "model_module": "@jupyter-widgets/controls",
      "model_module_version": "1.1.0",
      "model_name": "IntProgressModel",
      "state": {
       "bar_style": "success",
       "layout": "IPY_MODEL_9b66a6beb2eb4730a82019abcf671856",
       "max": 30,
       "style": "IPY_MODEL_2df27ee0d2a74ed9a65c3f2ad5744e0e",
       "value": 30
      }
     },
     "cb4ff9fa317046648a582f39ff0ed98b": {
      "model_module": "@jupyter-widgets/controls",
      "model_module_version": "1.1.0",
      "model_name": "ProgressStyleModel",
      "state": {
       "description_width": ""
      }
     },
     "d8db57675c514c4eb15aecc67fdf0154": {
      "model_module": "@jupyter-widgets/base",
      "model_module_version": "1.0.0",
      "model_name": "LayoutModel",
      "state": {}
     },
     "db6a5c8b4ce249988ec6f5e6a660a32e": {
      "model_module": "@jupyter-widgets/controls",
      "model_module_version": "1.1.0",
      "model_name": "HTMLModel",
      "state": {
       "layout": "IPY_MODEL_4850afc1ffa84fd1a4e6fa65d3a108a7",
       "style": "IPY_MODEL_bfcc555edbf1478fa8b96b61247bce65",
       "value": "  0% 0/12 [00:00&lt;?, ?interval/s]"
      }
     },
     "e3d83e1c3eaf4605854af649cbf73271": {
      "model_module": "@jupyter-widgets/controls",
      "model_module_version": "1.1.0",
      "model_name": "HTMLModel",
      "state": {
       "layout": "IPY_MODEL_81743f3dcda14543831e53ae0d93591a",
       "style": "IPY_MODEL_432ce912ceb642a898f1bfc7e15eff72",
       "value": "  0% 0/12 [00:00&lt;?, ?interval/s]"
      }
     },
     "e8889d985389404a8b9ae15a2c555aa6": {
      "model_module": "@jupyter-widgets/base",
      "model_module_version": "1.0.0",
      "model_name": "LayoutModel",
      "state": {}
     },
     "f2c44e513bff41febeb3dd4af0df6e06": {
      "model_module": "@jupyter-widgets/controls",
      "model_module_version": "1.1.0",
      "model_name": "ProgressStyleModel",
      "state": {
       "description_width": ""
      }
     },
     "f529f4d7440b4b4fbb6142f487271d15": {
      "model_module": "@jupyter-widgets/base",
      "model_module_version": "1.0.0",
      "model_name": "LayoutModel",
      "state": {}
     },
     "fbde54ad608f4f09adf1fad9f37cc614": {
      "model_module": "@jupyter-widgets/controls",
      "model_module_version": "1.1.0",
      "model_name": "ProgressStyleModel",
      "state": {
       "description_width": ""
      }
     },
     "ff5c8350864845969058116cf6a102b8": {
      "model_module": "@jupyter-widgets/base",
      "model_module_version": "1.0.0",
      "model_name": "LayoutModel",
      "state": {}
     }
    },
    "version_major": 2,
    "version_minor": 0
   }
  }
 },
 "nbformat": 4,
 "nbformat_minor": 2
}
