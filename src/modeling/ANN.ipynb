{
 "cells": [
  {
   "cell_type": "markdown",
   "metadata": {},
   "source": [
    "# Imports"
   ]
  },
  {
   "cell_type": "code",
   "execution_count": 1,
   "metadata": {},
   "outputs": [
    {
     "name": "stderr",
     "output_type": "stream",
     "text": [
      "/usr/local/Cellar/python/3.6.5_1/Frameworks/Python.framework/Versions/3.6/lib/python3.6/importlib/_bootstrap.py:219: RuntimeWarning: compiletime version 3.5 of module 'tensorflow.python.framework.fast_tensor_util' does not match runtime version 3.6\n",
      "  return f(*args, **kwds)\n",
      "/usr/local/lib/python3.6/site-packages/h5py/__init__.py:36: FutureWarning: Conversion of the second argument of issubdtype from `float` to `np.floating` is deprecated. In future, it will be treated as `np.float64 == np.dtype(float).type`.\n",
      "  from ._conv import register_converters as _register_converters\n"
     ]
    }
   ],
   "source": [
    "import numpy as np\n",
    "np.random.seed(1)\n",
    "import tensorflow\n",
    "tensorflow.set_random_seed(1)"
   ]
  },
  {
   "cell_type": "code",
   "execution_count": 2,
   "metadata": {},
   "outputs": [],
   "source": [
    "import os\n",
    "import pandas as pd\n",
    "from matplotlib import pyplot as plt\n",
    "%matplotlib inline"
   ]
  },
  {
   "cell_type": "code",
   "execution_count": 3,
   "metadata": {},
   "outputs": [
    {
     "name": "stderr",
     "output_type": "stream",
     "text": [
      "Using TensorFlow backend.\n"
     ]
    }
   ],
   "source": [
    "from sklearn.metrics import mean_squared_error\n",
    "from sklearn.pipeline import Pipeline\n",
    "from sklearn.preprocessing import StandardScaler\n",
    "from sklearn.preprocessing import Normalizer\n",
    "from keras import backend as K\n",
    "from keras import optimizers\n",
    "from keras.callbacks import EarlyStopping\n",
    "from keras.layers import Activation\n",
    "from keras.layers import BatchNormalization\n",
    "from keras.layers import Dense\n",
    "from keras.layers import Dropout\n",
    "from keras.layers import Input\n",
    "from keras.models import Model\n",
    "from keras.wrappers.scikit_learn import KerasRegressor"
   ]
  },
  {
   "cell_type": "code",
   "execution_count": 4,
   "metadata": {},
   "outputs": [],
   "source": [
    "if not os.path.exists('results'):\n",
    "    os.makedirs('results')"
   ]
  },
  {
   "cell_type": "markdown",
   "metadata": {},
   "source": [
    "# Architecture"
   ]
  },
  {
   "cell_type": "code",
   "execution_count": 5,
   "metadata": {},
   "outputs": [],
   "source": [
    "def block(x, units: int, dropout: float=0.2, activation: str='relu'):\n",
    "    \"\"\"\n",
    "    Add a bn + tanh + dense block to a tensor.\n",
    "\n",
    "    Args:\n",
    "        input_: the input tensor for the block\n",
    "        units: the number of dense units in the block\n",
    "        dropout: the dropout rate for the block\n",
    "\n",
    "    Returns:\n",
    "        the output tensor from the block\n",
    "\n",
    "    \"\"\"\n",
    "    x = BatchNormalization()(x)\n",
    "    x = Activation(activation)(x)\n",
    "    x = Dense(units)(x)\n",
    "    x = Dropout(dropout)(x)\n",
    "\n",
    "    return x"
   ]
  },
  {
   "cell_type": "code",
   "execution_count": 6,
   "metadata": {},
   "outputs": [],
   "source": [
    "def build_model() -> Model:\n",
    "    \"\"\"Build and compile a sequential Keras model (FFNN).\"\"\"\n",
    "    # clear the Keras session (only applies to keras models, but \n",
    "    # wont hurt sklearn ones to call this.\n",
    "    K.clear_session()\n",
    "\n",
    "    # create an input tensor\n",
    "    input_ = Input((11,))\n",
    "    x = input_\n",
    "    # create the encoder network\n",
    "    x = block(x, 32)\n",
    "    x = block(x, 16)\n",
    "    x = block(x, 8)\n",
    "    # add a binary classifier to the network\n",
    "    x = Dense(1)(x)\n",
    "\n",
    "    # create the model from the input and output tensors\n",
    "    model = Model(inputs=input_, outputs=x)\n",
    "    model.compile(\n",
    "        loss='mean_squared_error', \n",
    "        optimizer=optimizers.RMSprop(lr=1e-2, decay=0.025)\n",
    "    )\n",
    "\n",
    "    return model"
   ]
  },
  {
   "cell_type": "code",
   "execution_count": 7,
   "metadata": {},
   "outputs": [],
   "source": [
    "ann = KerasRegressor(\n",
    "    build_fn=build_model,\n",
    "    epochs=1000,\n",
    "    batch_size=10000,\n",
    "    callbacks=[EarlyStopping(monitor='loss', patience=3)],\n",
    "    verbose=1,\n",
    ")"
   ]
  },
  {
   "cell_type": "markdown",
   "metadata": {},
   "source": [
    "# Experiment"
   ]
  },
  {
   "cell_type": "code",
   "execution_count": 8,
   "metadata": {},
   "outputs": [],
   "source": [
    "train = pd.read_csv('../feature_engineering/train.gz')\n",
    "X_train = train[train.columns[:-1]].values\n",
    "y_train = train[train.columns[-1]].values"
   ]
  },
  {
   "cell_type": "code",
   "execution_count": 9,
   "metadata": {},
   "outputs": [
    {
     "name": "stdout",
     "output_type": "stream",
     "text": [
      "Epoch 1/1000\n",
      "21161/21161 [==============================] - 1s 39us/step - loss: 956.0922\n",
      "Epoch 2/1000\n",
      "21161/21161 [==============================] - 0s 3us/step - loss: 746.4897\n",
      "Epoch 3/1000\n",
      "21161/21161 [==============================] - 0s 3us/step - loss: 595.3021\n",
      "Epoch 4/1000\n",
      "21161/21161 [==============================] - 0s 3us/step - loss: 480.4304\n",
      "Epoch 5/1000\n",
      "21161/21161 [==============================] - 0s 3us/step - loss: 390.3605\n",
      "Epoch 6/1000\n",
      "21161/21161 [==============================] - 0s 3us/step - loss: 315.9821\n",
      "Epoch 7/1000\n",
      "21161/21161 [==============================] - 0s 3us/step - loss: 260.5265\n",
      "Epoch 8/1000\n",
      "21161/21161 [==============================] - 0s 3us/step - loss: 225.0374\n",
      "Epoch 9/1000\n",
      "21161/21161 [==============================] - 0s 3us/step - loss: 191.0398\n",
      "Epoch 10/1000\n",
      "21161/21161 [==============================] - 0s 3us/step - loss: 171.7589\n",
      "Epoch 11/1000\n",
      "21161/21161 [==============================] - 0s 3us/step - loss: 157.8961\n",
      "Epoch 12/1000\n",
      "21161/21161 [==============================] - 0s 3us/step - loss: 145.5400\n",
      "Epoch 13/1000\n",
      "21161/21161 [==============================] - 0s 3us/step - loss: 144.8581\n",
      "Epoch 14/1000\n",
      "21161/21161 [==============================] - 0s 3us/step - loss: 142.8270\n",
      "Epoch 15/1000\n",
      "21161/21161 [==============================] - 0s 3us/step - loss: 139.3526\n",
      "Epoch 16/1000\n",
      "21161/21161 [==============================] - 0s 3us/step - loss: 139.8009\n",
      "Epoch 17/1000\n",
      "21161/21161 [==============================] - 0s 3us/step - loss: 139.3270\n",
      "Epoch 18/1000\n",
      "21161/21161 [==============================] - 0s 3us/step - loss: 135.4037\n",
      "Epoch 19/1000\n",
      "21161/21161 [==============================] - 0s 3us/step - loss: 135.7590\n",
      "Epoch 20/1000\n",
      "21161/21161 [==============================] - 0s 3us/step - loss: 133.0960\n",
      "Epoch 21/1000\n",
      "21161/21161 [==============================] - 0s 3us/step - loss: 129.7414\n",
      "Epoch 22/1000\n",
      "21161/21161 [==============================] - 0s 3us/step - loss: 125.6974\n",
      "Epoch 23/1000\n",
      "21161/21161 [==============================] - 0s 3us/step - loss: 131.0871\n",
      "Epoch 24/1000\n",
      "21161/21161 [==============================] - 0s 3us/step - loss: 125.6935\n",
      "Epoch 25/1000\n",
      "21161/21161 [==============================] - 0s 3us/step - loss: 124.7828\n",
      "Epoch 26/1000\n",
      "21161/21161 [==============================] - 0s 3us/step - loss: 117.4294\n",
      "Epoch 27/1000\n",
      "21161/21161 [==============================] - 0s 3us/step - loss: 120.9310\n",
      "Epoch 28/1000\n",
      "21161/21161 [==============================] - 0s 3us/step - loss: 124.5868\n",
      "Epoch 29/1000\n",
      "21161/21161 [==============================] - 0s 3us/step - loss: 122.4416\n"
     ]
    }
   ],
   "source": [
    "history = ann.fit(X_train, y_train)"
   ]
  },
  {
   "cell_type": "code",
   "execution_count": 10,
   "metadata": {},
   "outputs": [
    {
     "data": {
      "image/png": "[encoded data removed]",
      "text/plain": [
       "<Figure size 432x288 with 1 Axes>"
      ]
     },
     "metadata": {
      "needs_background": "light"
     },
     "output_type": "display_data"
    }
   ],
   "source": [
    "_ = pd.Series(history.history['loss']).plot()"
   ]
  },
  {
   "cell_type": "code",
   "execution_count": 11,
   "metadata": {},
   "outputs": [
    {
     "name": "stdout",
     "output_type": "stream",
     "text": [
      "21161/21161 [==============================] - 0s 6us/step\n"
     ]
    }
   ],
   "source": [
    "train_pred = ann.predict(X_train).reshape(-1)"
   ]
  },
  {
   "cell_type": "code",
   "execution_count": 12,
   "metadata": {},
   "outputs": [
    {
     "data": {
      "text/plain": [
       "97.64869722856795"
      ]
     },
     "execution_count": 12,
     "metadata": {},
     "output_type": "execute_result"
    }
   ],
   "source": [
    "train_err = mean_squared_error(y_train, train_pred)\n",
    "train_err"
   ]
  },
  {
   "cell_type": "code",
   "execution_count": 13,
   "metadata": {},
   "outputs": [],
   "source": [
    "train_df = pd.DataFrame([y_train, train_pred], index=['Truth', 'Predictions']).T"
   ]
  },
  {
   "cell_type": "code",
   "execution_count": 14,
   "metadata": {},
   "outputs": [
    {
     "data": {
      "image/png": "[encoded data removed]",
      "text/plain": [
       "<Figure size 1152x288 with 1 Axes>"
      ]
     },
     "metadata": {
      "needs_background": "light"
     },
     "output_type": "display_data"
    }
   ],
   "source": [
    "ax = train_df.plot(figsize=(16, 4))\n",
    "ax.set_ylabel('$\\MWHr')\n",
    "ax.set_xlabel('Time Step')\n",
    "plt.savefig('results/ann-train.pdf')\n",
    "plt.savefig('results/ann-train.svg')"
   ]
  },
  {
   "cell_type": "markdown",
   "metadata": {},
   "source": [
    "## Testing"
   ]
  },
  {
   "cell_type": "code",
   "execution_count": 15,
   "metadata": {},
   "outputs": [],
   "source": [
    "test = pd.read_csv('../feature_engineering/test.gz')\n",
    "X_test = test[test.columns[:-1]].values\n",
    "y_test = test[test.columns[-1]].values"
   ]
  },
  {
   "cell_type": "code",
   "execution_count": 16,
   "metadata": {},
   "outputs": [
    {
     "name": "stdout",
     "output_type": "stream",
     "text": [
      "\r",
      "767/767 [==============================] - 0s 3us/step\n"
     ]
    }
   ],
   "source": [
    "test_pred = ann.predict(X_test).reshape(-1)"
   ]
  },
  {
   "cell_type": "code",
   "execution_count": 17,
   "metadata": {
    "scrolled": true
   },
   "outputs": [
    {
     "data": {
      "text/plain": [
       "80.06330923732705"
      ]
     },
     "execution_count": 17,
     "metadata": {},
     "output_type": "execute_result"
    }
   ],
   "source": [
    "test_err = mean_squared_error(y_test, test_pred)\n",
    "test_err"
   ]
  },
  {
   "cell_type": "code",
   "execution_count": 18,
   "metadata": {},
   "outputs": [],
   "source": [
    "test_df = pd.DataFrame([y_test, test_pred], index=['Truth', 'Predictions']).T"
   ]
  },
  {
   "cell_type": "code",
   "execution_count": 19,
   "metadata": {},
   "outputs": [
    {
     "data": {
      "image/png": "[encoded data removed]",
      "text/plain": [
       "<Figure size 1152x288 with 1 Axes>"
      ]
     },
     "metadata": {
      "needs_background": "light"
     },
     "output_type": "display_data"
    }
   ],
   "source": [
    "ax = test_df.plot(figsize=(16, 4))\n",
    "ax.set_ylabel('$\\MWHr')\n",
    "ax.set_xlabel('Time Step')\n",
    "plt.savefig('results/ann-test.pdf')\n",
    "plt.savefig('results/ann-test.svg')"
   ]
  },
  {
   "cell_type": "markdown",
   "metadata": {},
   "source": [
    "## Results"
   ]
  },
  {
   "cell_type": "code",
   "execution_count": 20,
   "metadata": {},
   "outputs": [
    {
     "data": {
      "text/plain": [
       "Train    97.648697\n",
       "Test     80.063309\n",
       "dtype: float64"
      ]
     },
     "execution_count": 20,
     "metadata": {},
     "output_type": "execute_result"
    }
   ],
   "source": [
    "results = pd.Series([train_err, test_err], index=['Train', 'Test'])\n",
    "results"
   ]
  },
  {
   "cell_type": "code",
   "execution_count": 21,
   "metadata": {},
   "outputs": [],
   "source": [
    "results.to_csv('results/ann-mse.csv')"
   ]
  },
  {
   "cell_type": "markdown",
   "metadata": {},
   "source": [
    " "
   ]
  }
 ],
 "metadata": {
  "kernelspec": {
   "display_name": "Python 3",
   "language": "python",
   "name": "python3"
  },
  "language_info": {
   "codemirror_mode": {
    "name": "ipython",
    "version": 3
   },
   "file_extension": ".py",
   "mimetype": "text/x-python",
   "name": "python",
   "nbconvert_exporter": "python",
   "pygments_lexer": "ipython3",
   "version": "3.6.5"
  },
  "widgets": {
   "application/vnd.jupyter.widget-state+json": {
    "state": {
     "02a4ae165f7f4d18b175960dc059beed": {
      "model_module": "@jupyter-widgets/controls",
      "model_module_version": "1.1.0",
      "model_name": "ProgressStyleModel",
      "state": {
       "description_width": ""
      }
     },
     "076b47e5804345028e7030dad5de1747": {
      "model_module": "@jupyter-widgets/base",
      "model_module_version": "1.0.0",
      "model_name": "LayoutModel",
      "state": {}
     },
     "0a58a3a78a884709b8936a7bf8bb8522": {
      "model_module": "@jupyter-widgets/controls",
      "model_module_version": "1.1.0",
      "model_name": "DescriptionStyleModel",
      "state": {
       "description_width": ""
      }
     },
     "10400e52d77b4c678bb330ff697f8c58": {
      "model_module": "@jupyter-widgets/controls",
      "model_module_version": "1.1.0",
      "model_name": "ProgressStyleModel",
      "state": {
       "description_width": ""
      }
     },
     "1360475d03414b09b95866aa7676f9a1": {
      "model_module": "@jupyter-widgets/controls",
      "model_module_version": "1.1.0",
      "model_name": "HTMLModel",
      "state": {
       "layout": "IPY_MODEL_d8db57675c514c4eb15aecc67fdf0154",
       "style": "IPY_MODEL_755099150bd2485b9736e21836bde211",
       "value": "  0% 0/12 [00:00&lt;?, ?interval/s]"
      }
     },
     "1a392dec047240f99a77dfa54ca3b24a": {
      "model_module": "@jupyter-widgets/controls",
      "model_module_version": "1.1.0",
      "model_name": "HTMLModel",
      "state": {
       "layout": "IPY_MODEL_83f3035b28d048d6ba1d68499b1d47be",
       "style": "IPY_MODEL_0a58a3a78a884709b8936a7bf8bb8522",
       "value": "  0% 0/30 [00:00&lt;?, ?experiment/s]"
      }
     },
     "20fd7abfa28b4365b7d14aee01634185": {
      "model_module": "@jupyter-widgets/controls",
      "model_module_version": "1.1.0",
      "model_name": "HBoxModel",
      "state": {
       "children": [
        "IPY_MODEL_cb260a2ec4dc40f9a756296c0bd170db",
        "IPY_MODEL_433e1a54bc2c4c4d90dabd669a6b2da4"
       ],
       "layout": "IPY_MODEL_acee0a66d5084427a917ef81ed3ae689"
      }
     },
     "27caab26a3bc44189bf43331f3ea6835": {
      "model_module": "@jupyter-widgets/controls",
      "model_module_version": "1.1.0",
      "model_name": "HTMLModel",
      "state": {
       "layout": "IPY_MODEL_acc960591252424f88207e71fdc94935",
       "style": "IPY_MODEL_3a0fd6e2e61c47cc88cbff284696ad53",
       "value": " 80% 24/30 [1:02:32&lt;15:38, 156.36s/experiment]"
      }
     },
     "2df27ee0d2a74ed9a65c3f2ad5744e0e": {
      "model_module": "@jupyter-widgets/controls",
      "model_module_version": "1.1.0",
      "model_name": "ProgressStyleModel",
      "state": {
       "description_width": ""
      }
     },
     "2ff1dfd0affe42589593aefe51e61eab": {
      "model_module": "@jupyter-widgets/base",
      "model_module_version": "1.0.0",
      "model_name": "LayoutModel",
      "state": {}
     },
     "308c194343ba444ca4c2d8dd14e0ab32": {
      "model_module": "@jupyter-widgets/controls",
      "model_module_version": "1.1.0",
      "model_name": "DescriptionStyleModel",
      "state": {
       "description_width": ""
      }
     },
     "35271685582b43209ecc36befce12669": {
      "model_module": "@jupyter-widgets/controls",
      "model_module_version": "1.1.0",
      "model_name": "HBoxModel",
      "state": {
       "children": [
        "IPY_MODEL_3bf0ecf8caa143d98e5fb7d89e643b07",
        "IPY_MODEL_1a392dec047240f99a77dfa54ca3b24a"
       ],
       "layout": "IPY_MODEL_39653e51f70543a58d319997543a49af"
      }
     },
     "391adb8920b9449c8b5edeaebdd41f33": {
      "model_module": "@jupyter-widgets/controls",
      "model_module_version": "1.1.0",
      "model_name": "IntProgressModel",
      "state": {
       "layout": "IPY_MODEL_7504de1353ac4750806ba2ce751694d6",
       "max": 12,
       "style": "IPY_MODEL_f2c44e513bff41febeb3dd4af0df6e06"
      }
     },
     "39653e51f70543a58d319997543a49af": {
      "model_module": "@jupyter-widgets/base",
      "model_module_version": "1.0.0",
      "model_name": "LayoutModel",
      "state": {}
     },
     "3a0fd6e2e61c47cc88cbff284696ad53": {
      "model_module": "@jupyter-widgets/controls",
      "model_module_version": "1.1.0",
      "model_name": "DescriptionStyleModel",
      "state": {
       "description_width": ""
      }
     },
     "3b8d572c742242798a477c182c8fc171": {
      "model_module": "@jupyter-widgets/base",
      "model_module_version": "1.0.0",
      "model_name": "LayoutModel",
      "state": {}
     },
     "3bf0ecf8caa143d98e5fb7d89e643b07": {
      "model_module": "@jupyter-widgets/controls",
      "model_module_version": "1.1.0",
      "model_name": "IntProgressModel",
      "state": {
       "layout": "IPY_MODEL_3b8d572c742242798a477c182c8fc171",
       "max": 30,
       "style": "IPY_MODEL_cb4ff9fa317046648a582f39ff0ed98b"
      }
     },
     "3c21c1da98a549caab1cae0e3ecad77d": {
      "model_module": "@jupyter-widgets/base",
      "model_module_version": "1.0.0",
      "model_name": "LayoutModel",
      "state": {}
     },
     "432ce912ceb642a898f1bfc7e15eff72": {
      "model_module": "@jupyter-widgets/controls",
      "model_module_version": "1.1.0",
      "model_name": "DescriptionStyleModel",
      "state": {
       "description_width": ""
      }
     },
     "433e1a54bc2c4c4d90dabd669a6b2da4": {
      "model_module": "@jupyter-widgets/controls",
      "model_module_version": "1.1.0",
      "model_name": "HTMLModel",
      "state": {
       "layout": "IPY_MODEL_5790b3df5eb8441380cc8b1c021b461c",
       "style": "IPY_MODEL_adbfc0c0d7714550be8ace61138da121",
       "value": "100% 30/30 [7:20:41&lt;00:00, 881.38s/experiment]"
      }
     },
     "460758bbe084429a89c868ba4fcad7a2": {
      "model_module": "@jupyter-widgets/controls",
      "model_module_version": "1.1.0",
      "model_name": "HBoxModel",
      "state": {
       "children": [
        "IPY_MODEL_8a5c79381df349eaaf67368e3d341298",
        "IPY_MODEL_e3d83e1c3eaf4605854af649cbf73271"
       ],
       "layout": "IPY_MODEL_2ff1dfd0affe42589593aefe51e61eab"
      }
     },
     "4850afc1ffa84fd1a4e6fa65d3a108a7": {
      "model_module": "@jupyter-widgets/base",
      "model_module_version": "1.0.0",
      "model_name": "LayoutModel",
      "state": {}
     },
     "496df30ccc404d26960a7784a4b1baa5": {
      "model_module": "@jupyter-widgets/controls",
      "model_module_version": "1.1.0",
      "model_name": "HTMLModel",
      "state": {
       "layout": "IPY_MODEL_a6e788fcc2134d4e9eb587d75ce712f6",
       "style": "IPY_MODEL_308c194343ba444ca4c2d8dd14e0ab32",
       "value": "  0% 0/30 [00:00&lt;?, ?experiment/s]"
      }
     },
     "5790b3df5eb8441380cc8b1c021b461c": {
      "model_module": "@jupyter-widgets/base",
      "model_module_version": "1.0.0",
      "model_name": "LayoutModel",
      "state": {}
     },
     "73be8e8de0a9412bb4453627de8465e9": {
      "model_module": "@jupyter-widgets/controls",
      "model_module_version": "1.1.0",
      "model_name": "IntProgressModel",
      "state": {
       "bar_style": "danger",
       "layout": "IPY_MODEL_ff5c8350864845969058116cf6a102b8",
       "max": 12,
       "style": "IPY_MODEL_10400e52d77b4c678bb330ff697f8c58"
      }
     },
     "7504de1353ac4750806ba2ce751694d6": {
      "model_module": "@jupyter-widgets/base",
      "model_module_version": "1.0.0",
      "model_name": "LayoutModel",
      "state": {}
     },
     "755099150bd2485b9736e21836bde211": {
      "model_module": "@jupyter-widgets/controls",
      "model_module_version": "1.1.0",
      "model_name": "DescriptionStyleModel",
      "state": {
       "description_width": ""
      }
     },
     "7b138f75dc404046a4a15db35897f35e": {
      "model_module": "@jupyter-widgets/base",
      "model_module_version": "1.0.0",
      "model_name": "LayoutModel",
      "state": {}
     },
     "81743f3dcda14543831e53ae0d93591a": {
      "model_module": "@jupyter-widgets/base",
      "model_module_version": "1.0.0",
      "model_name": "LayoutModel",
      "state": {}
     },
     "83f3035b28d048d6ba1d68499b1d47be": {
      "model_module": "@jupyter-widgets/base",
      "model_module_version": "1.0.0",
      "model_name": "LayoutModel",
      "state": {}
     },
     "8a5c79381df349eaaf67368e3d341298": {
      "model_module": "@jupyter-widgets/controls",
      "model_module_version": "1.1.0",
      "model_name": "IntProgressModel",
      "state": {
       "bar_style": "danger",
       "layout": "IPY_MODEL_f529f4d7440b4b4fbb6142f487271d15",
       "max": 12,
       "style": "IPY_MODEL_fbde54ad608f4f09adf1fad9f37cc614"
      }
     },
     "8a9ae41ae53e4600ba94726ab2560630": {
      "model_module": "@jupyter-widgets/controls",
      "model_module_version": "1.1.0",
      "model_name": "IntProgressModel",
      "state": {
       "bar_style": "danger",
       "layout": "IPY_MODEL_e8889d985389404a8b9ae15a2c555aa6",
       "max": 30,
       "style": "IPY_MODEL_02a4ae165f7f4d18b175960dc059beed",
       "value": 24
      }
     },
     "8afe3d9c539541b4920f42fd73908e59": {
      "model_module": "@jupyter-widgets/controls",
      "model_module_version": "1.1.0",
      "model_name": "ProgressStyleModel",
      "state": {
       "description_width": ""
      }
     },
     "8cb01fb1279343219e9d8d6ecbe51c98": {
      "model_module": "@jupyter-widgets/controls",
      "model_module_version": "1.1.0",
      "model_name": "HBoxModel",
      "state": {
       "children": [
        "IPY_MODEL_391adb8920b9449c8b5edeaebdd41f33",
        "IPY_MODEL_1360475d03414b09b95866aa7676f9a1"
       ],
       "layout": "IPY_MODEL_7b138f75dc404046a4a15db35897f35e"
      }
     },
     "9024ac17aedb49908b63666cfe32656d": {
      "model_module": "@jupyter-widgets/controls",
      "model_module_version": "1.1.0",
      "model_name": "HBoxModel",
      "state": {
       "children": [
        "IPY_MODEL_73be8e8de0a9412bb4453627de8465e9",
        "IPY_MODEL_db6a5c8b4ce249988ec6f5e6a660a32e"
       ],
       "layout": "IPY_MODEL_c558edafdc03460aabac068820b0c2ee"
      }
     },
     "9431594f28ab44dca0d04c0b92e16ecb": {
      "model_module": "@jupyter-widgets/base",
      "model_module_version": "1.0.0",
      "model_name": "LayoutModel",
      "state": {}
     },
     "9b66a6beb2eb4730a82019abcf671856": {
      "model_module": "@jupyter-widgets/base",
      "model_module_version": "1.0.0",
      "model_name": "LayoutModel",
      "state": {}
     },
     "a6e788fcc2134d4e9eb587d75ce712f6": {
      "model_module": "@jupyter-widgets/base",
      "model_module_version": "1.0.0",
      "model_name": "LayoutModel",
      "state": {}
     },
     "ab39fa72c3c44ed1a047c6a837c5d765": {
      "model_module": "@jupyter-widgets/controls",
      "model_module_version": "1.1.0",
      "model_name": "HBoxModel",
      "state": {
       "children": [
        "IPY_MODEL_8a9ae41ae53e4600ba94726ab2560630",
        "IPY_MODEL_27caab26a3bc44189bf43331f3ea6835"
       ],
       "layout": "IPY_MODEL_9431594f28ab44dca0d04c0b92e16ecb"
      }
     },
     "acc960591252424f88207e71fdc94935": {
      "model_module": "@jupyter-widgets/base",
      "model_module_version": "1.0.0",
      "model_name": "LayoutModel",
      "state": {}
     },
     "acee0a66d5084427a917ef81ed3ae689": {
      "model_module": "@jupyter-widgets/base",
      "model_module_version": "1.0.0",
      "model_name": "LayoutModel",
      "state": {}
     },
     "adbfc0c0d7714550be8ace61138da121": {
      "model_module": "@jupyter-widgets/controls",
      "model_module_version": "1.1.0",
      "model_name": "DescriptionStyleModel",
      "state": {
       "description_width": ""
      }
     },
     "b20cdbad9f714d9d9e3f5e16a2d0e3f7": {
      "model_module": "@jupyter-widgets/controls",
      "model_module_version": "1.1.0",
      "model_name": "IntProgressModel",
      "state": {
       "bar_style": "danger",
       "layout": "IPY_MODEL_076b47e5804345028e7030dad5de1747",
       "max": 30,
       "style": "IPY_MODEL_8afe3d9c539541b4920f42fd73908e59"
      }
     },
     "bcdf02c702dd4da7b4dc9e8e9a3fccd7": {
      "model_module": "@jupyter-widgets/controls",
      "model_module_version": "1.1.0",
      "model_name": "HBoxModel",
      "state": {
       "children": [
        "IPY_MODEL_b20cdbad9f714d9d9e3f5e16a2d0e3f7",
        "IPY_MODEL_496df30ccc404d26960a7784a4b1baa5"
       ],
       "layout": "IPY_MODEL_3c21c1da98a549caab1cae0e3ecad77d"
      }
     },
     "bfcc555edbf1478fa8b96b61247bce65": {
      "model_module": "@jupyter-widgets/controls",
      "model_module_version": "1.1.0",
      "model_name": "DescriptionStyleModel",
      "state": {
       "description_width": ""
      }
     },
     "c558edafdc03460aabac068820b0c2ee": {
      "model_module": "@jupyter-widgets/base",
      "model_module_version": "1.0.0",
      "model_name": "LayoutModel",
      "state": {}
     },
     "cb260a2ec4dc40f9a756296c0bd170db": {
      "model_module": "@jupyter-widgets/controls",
      "model_module_version": "1.1.0",
      "model_name": "IntProgressModel",
      "state": {
       "bar_style": "success",
       "layout": "IPY_MODEL_9b66a6beb2eb4730a82019abcf671856",
       "max": 30,
       "style": "IPY_MODEL_2df27ee0d2a74ed9a65c3f2ad5744e0e",
       "value": 30
      }
     },
     "cb4ff9fa317046648a582f39ff0ed98b": {
      "model_module": "@jupyter-widgets/controls",
      "model_module_version": "1.1.0",
      "model_name": "ProgressStyleModel",
      "state": {
       "description_width": ""
      }
     },
     "d8db57675c514c4eb15aecc67fdf0154": {
      "model_module": "@jupyter-widgets/base",
      "model_module_version": "1.0.0",
      "model_name": "LayoutModel",
      "state": {}
     },
     "db6a5c8b4ce249988ec6f5e6a660a32e": {
      "model_module": "@jupyter-widgets/controls",
      "model_module_version": "1.1.0",
      "model_name": "HTMLModel",
      "state": {
       "layout": "IPY_MODEL_4850afc1ffa84fd1a4e6fa65d3a108a7",
       "style": "IPY_MODEL_bfcc555edbf1478fa8b96b61247bce65",
       "value": "  0% 0/12 [00:00&lt;?, ?interval/s]"
      }
     },
     "e3d83e1c3eaf4605854af649cbf73271": {
      "model_module": "@jupyter-widgets/controls",
      "model_module_version": "1.1.0",
      "model_name": "HTMLModel",
      "state": {
       "layout": "IPY_MODEL_81743f3dcda14543831e53ae0d93591a",
       "style": "IPY_MODEL_432ce912ceb642a898f1bfc7e15eff72",
       "value": "  0% 0/12 [00:00&lt;?, ?interval/s]"
      }
     },
     "e8889d985389404a8b9ae15a2c555aa6": {
      "model_module": "@jupyter-widgets/base",
      "model_module_version": "1.0.0",
      "model_name": "LayoutModel",
      "state": {}
     },
     "f2c44e513bff41febeb3dd4af0df6e06": {
      "model_module": "@jupyter-widgets/controls",
      "model_module_version": "1.1.0",
      "model_name": "ProgressStyleModel",
      "state": {
       "description_width": ""
      }
     },
     "f529f4d7440b4b4fbb6142f487271d15": {
      "model_module": "@jupyter-widgets/base",
      "model_module_version": "1.0.0",
      "model_name": "LayoutModel",
      "state": {}
     },
     "fbde54ad608f4f09adf1fad9f37cc614": {
      "model_module": "@jupyter-widgets/controls",
      "model_module_version": "1.1.0",
      "model_name": "ProgressStyleModel",
      "state": {
       "description_width": ""
      }
     },
     "ff5c8350864845969058116cf6a102b8": {
      "model_module": "@jupyter-widgets/base",
      "model_module_version": "1.0.0",
      "model_name": "LayoutModel",
      "state": {}
     }
    },
    "version_major": 2,
    "version_minor": 0
   }
  }
 },
 "nbformat": 4,
 "nbformat_minor": 2
}
