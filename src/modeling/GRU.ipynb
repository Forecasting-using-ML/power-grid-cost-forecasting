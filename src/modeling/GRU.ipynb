{
 "cells": [
  {
   "cell_type": "markdown",
   "metadata": {},
   "source": [
    "# Imports"
   ]
  },
  {
   "cell_type": "code",
   "execution_count": 1,
   "metadata": {},
   "outputs": [
    {
     "name": "stderr",
     "output_type": "stream",
     "text": [
      "/usr/local/lib/python3.6/site-packages/h5py/__init__.py:36: FutureWarning: Conversion of the second argument of issubdtype from `float` to `np.floating` is deprecated. In future, it will be treated as `np.float64 == np.dtype(float).type`.\n",
      "  from ._conv import register_converters as _register_converters\n"
     ]
    }
   ],
   "source": [
    "import numpy as np\n",
    "np.random.seed(1)\n",
    "import tensorflow\n",
    "tensorflow.set_random_seed(1)"
   ]
  },
  {
   "cell_type": "code",
   "execution_count": 2,
   "metadata": {},
   "outputs": [],
   "source": [
    "import os\n",
    "import pandas as pd\n",
    "from matplotlib import pyplot as plt\n",
    "%matplotlib inline"
   ]
  },
  {
   "cell_type": "code",
   "execution_count": 3,
   "metadata": {},
   "outputs": [
    {
     "name": "stderr",
     "output_type": "stream",
     "text": [
      "Using TensorFlow backend.\n"
     ]
    }
   ],
   "source": [
    "from sklearn.metrics import mean_squared_error\n",
    "from keras.models import Model\n",
    "from keras.models import Sequential\n",
    "from keras.layers import GRU\n",
    "from keras.layers import Dense\n",
    "from keras.optimizers import Nadam, Adam\n",
    "from keras.wrappers.scikit_learn import KerasClassifier\n",
    "from keras import backend as K\n",
    "from keras.utils.vis_utils import model_to_dot\n",
    "from IPython.display import SVG"
   ]
  },
  {
   "cell_type": "code",
   "execution_count": 4,
   "metadata": {},
   "outputs": [],
   "source": [
    "if not os.path.exists('results'):\n",
    "    os.makedirs('results')"
   ]
  },
  {
   "cell_type": "markdown",
   "metadata": {},
   "source": [
    "# Dataset"
   ]
  },
  {
   "cell_type": "code",
   "execution_count": 5,
   "metadata": {},
   "outputs": [],
   "source": [
    "train = pd.read_csv('../feature_engineering/train.gz')\n",
    "X_train = train[train.columns[:-1]].values\n",
    "X_train /= 20000\n",
    "X_train = X_train.reshape(X_train.shape[0], 1, X_train.shape[1])\n",
    "y_train = train[train.columns[-1]].values\n",
    "y_train /= 1000"
   ]
  },
  {
   "cell_type": "code",
   "execution_count": 6,
   "metadata": {},
   "outputs": [
    {
     "data": {
      "text/plain": [
       "(21161, 1, 11)"
      ]
     },
     "execution_count": 6,
     "metadata": {},
     "output_type": "execute_result"
    }
   ],
   "source": [
    "X_train.shape"
   ]
  },
  {
   "cell_type": "code",
   "execution_count": 7,
   "metadata": {},
   "outputs": [
    {
     "data": {
      "text/plain": [
       "(21161,)"
      ]
     },
     "execution_count": 7,
     "metadata": {},
     "output_type": "execute_result"
    }
   ],
   "source": [
    "y_train.shape"
   ]
  },
  {
   "cell_type": "code",
   "execution_count": 8,
   "metadata": {},
   "outputs": [],
   "source": [
    "test = pd.read_csv('../feature_engineering/test.gz')\n",
    "X_test = test[test.columns[:-1]].values\n",
    "X_test /= 20000\n",
    "X_test = X_test.reshape(X_test.shape[0], 1, X_test.shape[1])\n",
    "y_test = test[test.columns[-1]].values\n",
    "y_test /= 1000"
   ]
  },
  {
   "cell_type": "code",
   "execution_count": 9,
   "metadata": {},
   "outputs": [
    {
     "data": {
      "text/plain": [
       "(767, 1, 11)"
      ]
     },
     "execution_count": 9,
     "metadata": {},
     "output_type": "execute_result"
    }
   ],
   "source": [
    "X_test.shape"
   ]
  },
  {
   "cell_type": "code",
   "execution_count": 10,
   "metadata": {},
   "outputs": [
    {
     "data": {
      "text/plain": [
       "(767,)"
      ]
     },
     "execution_count": 10,
     "metadata": {},
     "output_type": "execute_result"
    }
   ],
   "source": [
    "y_test.shape"
   ]
  },
  {
   "cell_type": "markdown",
   "metadata": {},
   "source": [
    "# Architecture"
   ]
  },
  {
   "cell_type": "code",
   "execution_count": 11,
   "metadata": {},
   "outputs": [],
   "source": [
    "def build_model(input_shape: tuple) -> Model:\n",
    "    \"\"\"\n",
    "    Build and compile a neural model.\n",
    "\n",
    "    Args:\n",
    "        input_shape: the input shape for the network\n",
    "\n",
    "    Returns:\n",
    "        a compiled sequential model with given input shape\n",
    "\n",
    "    \"\"\"\n",
    "    # clear the Keras session (only applies to keras models, but \n",
    "    # wont hurt sklearn ones to call this.\n",
    "    K.clear_session()\n",
    "    # create a sequential model with LSTM layers    \n",
    "    model = Sequential([\n",
    "        GRU(100, input_shape=input_shape, return_sequences=True),\n",
    "        GRU(100, return_sequences=True),\n",
    "        GRU(100),\n",
    "        Dense(1)\n",
    "    ])\n",
    "    # compile the model\n",
    "    model.compile(\n",
    "        loss='mean_squared_error', \n",
    "        optimizer=Adam(),\n",
    "    )\n",
    "\n",
    "    return model"
   ]
  },
  {
   "cell_type": "code",
   "execution_count": 12,
   "metadata": {},
   "outputs": [
    {
     "data": {
      "text/plain": [
       "<keras.models.Sequential at 0x12252d208>"
      ]
     },
     "execution_count": 12,
     "metadata": {},
     "output_type": "execute_result"
    }
   ],
   "source": [
    "model = build_model((X_train.shape[1], X_train.shape[2]))\n",
    "model"
   ]
  },
  {
   "cell_type": "code",
   "execution_count": 13,
   "metadata": {},
   "outputs": [
    {
     "data": {
      "image/svg+xml": [
       "<svg height=\"377pt\" viewBox=\"0.00 0.00 232.00 377.00\" width=\"232pt\" xmlns=\"http://www.w3.org/2000/svg\" xmlns:xlink=\"http://www.w3.org/1999/xlink\">\n",
       "<g class=\"graph\" id=\"graph0\" transform=\"scale(1 1) rotate(0) translate(4 373)\">\n",
       "<title>G</title>\n",
       "<polygon fill=\"#ffffff\" points=\"-4,4 -4,-373 227.998,-373 227.998,4 -4,4\" stroke=\"transparent\"/>\n",
       "<!-- 4870820472 -->\n",
       "<g class=\"node\" id=\"node1\">\n",
       "<title>4870820472</title>\n",
       "<polygon fill=\"none\" points=\"0,-324.5 0,-368.5 223.998,-368.5 223.998,-324.5 0,-324.5\" stroke=\"#000000\"/>\n",
       "<text fill=\"#000000\" font-family=\"Times,serif\" font-size=\"14.00\" text-anchor=\"middle\" x=\"39.0967\" y=\"-342.3\">InputLayer</text>\n",
       "<polyline fill=\"none\" points=\"78.1934,-324.5 78.1934,-368.5 \" stroke=\"#000000\"/>\n",
       "<text fill=\"#000000\" font-family=\"Times,serif\" font-size=\"14.00\" text-anchor=\"middle\" x=\"106.0278\" y=\"-353.3\">input:</text>\n",
       "<polyline fill=\"none\" points=\"78.1934,-346.5 133.8623,-346.5 \" stroke=\"#000000\"/>\n",
       "<text fill=\"#000000\" font-family=\"Times,serif\" font-size=\"14.00\" text-anchor=\"middle\" x=\"106.0278\" y=\"-331.3\">output:</text>\n",
       "<polyline fill=\"none\" points=\"133.8623,-324.5 133.8623,-368.5 \" stroke=\"#000000\"/>\n",
       "<text fill=\"#000000\" font-family=\"Times,serif\" font-size=\"14.00\" text-anchor=\"middle\" x=\"178.9302\" y=\"-353.3\">(None, 1, 11)</text>\n",
       "<polyline fill=\"none\" points=\"133.8623,-346.5 223.998,-346.5 \" stroke=\"#000000\"/>\n",
       "<text fill=\"#000000\" font-family=\"Times,serif\" font-size=\"14.00\" text-anchor=\"middle\" x=\"178.9302\" y=\"-331.3\">(None, 1, 11)</text>\n",
       "</g>\n",
       "<!-- 4861313376 -->\n",
       "<g class=\"node\" id=\"node2\">\n",
       "<title>4861313376</title>\n",
       "<polygon fill=\"none\" points=\"12.561,-243.5 12.561,-287.5 211.437,-287.5 211.437,-243.5 12.561,-243.5\" stroke=\"#000000\"/>\n",
       "<text fill=\"#000000\" font-family=\"Times,serif\" font-size=\"14.00\" text-anchor=\"middle\" x=\"35.3403\" y=\"-261.3\">GRU</text>\n",
       "<polyline fill=\"none\" points=\"58.1196,-243.5 58.1196,-287.5 \" stroke=\"#000000\"/>\n",
       "<text fill=\"#000000\" font-family=\"Times,serif\" font-size=\"14.00\" text-anchor=\"middle\" x=\"85.9541\" y=\"-272.3\">input:</text>\n",
       "<polyline fill=\"none\" points=\"58.1196,-265.5 113.7886,-265.5 \" stroke=\"#000000\"/>\n",
       "<text fill=\"#000000\" font-family=\"Times,serif\" font-size=\"14.00\" text-anchor=\"middle\" x=\"85.9541\" y=\"-250.3\">output:</text>\n",
       "<polyline fill=\"none\" points=\"113.7886,-243.5 113.7886,-287.5 \" stroke=\"#000000\"/>\n",
       "<text fill=\"#000000\" font-family=\"Times,serif\" font-size=\"14.00\" text-anchor=\"middle\" x=\"162.3564\" y=\"-272.3\">(None, 1, 11)</text>\n",
       "<polyline fill=\"none\" points=\"113.7886,-265.5 211.437,-265.5 \" stroke=\"#000000\"/>\n",
       "<text fill=\"#000000\" font-family=\"Times,serif\" font-size=\"14.00\" text-anchor=\"middle\" x=\"162.6128\" y=\"-250.3\">(None, 1, 100)</text>\n",
       "</g>\n",
       "<!-- 4870820472&#45;&gt;4861313376 -->\n",
       "<g class=\"edge\" id=\"edge1\">\n",
       "<title>4870820472-&gt;4861313376</title>\n",
       "<path d=\"M111.999,-324.3664C111.999,-316.1516 111.999,-306.6579 111.999,-297.7252\" fill=\"none\" stroke=\"#000000\"/>\n",
       "<polygon fill=\"#000000\" points=\"115.4991,-297.6068 111.999,-287.6068 108.4991,-297.6069 115.4991,-297.6068\" stroke=\"#000000\"/>\n",
       "</g>\n",
       "<!-- 4871009952 -->\n",
       "<g class=\"node\" id=\"node3\">\n",
       "<title>4871009952</title>\n",
       "<polygon fill=\"none\" points=\"12.561,-162.5 12.561,-206.5 211.437,-206.5 211.437,-162.5 12.561,-162.5\" stroke=\"#000000\"/>\n",
       "<text fill=\"#000000\" font-family=\"Times,serif\" font-size=\"14.00\" text-anchor=\"middle\" x=\"35.3403\" y=\"-180.3\">GRU</text>\n",
       "<polyline fill=\"none\" points=\"58.1196,-162.5 58.1196,-206.5 \" stroke=\"#000000\"/>\n",
       "<text fill=\"#000000\" font-family=\"Times,serif\" font-size=\"14.00\" text-anchor=\"middle\" x=\"85.9541\" y=\"-191.3\">input:</text>\n",
       "<polyline fill=\"none\" points=\"58.1196,-184.5 113.7886,-184.5 \" stroke=\"#000000\"/>\n",
       "<text fill=\"#000000\" font-family=\"Times,serif\" font-size=\"14.00\" text-anchor=\"middle\" x=\"85.9541\" y=\"-169.3\">output:</text>\n",
       "<polyline fill=\"none\" points=\"113.7886,-162.5 113.7886,-206.5 \" stroke=\"#000000\"/>\n",
       "<text fill=\"#000000\" font-family=\"Times,serif\" font-size=\"14.00\" text-anchor=\"middle\" x=\"162.6128\" y=\"-191.3\">(None, 1, 100)</text>\n",
       "<polyline fill=\"none\" points=\"113.7886,-184.5 211.437,-184.5 \" stroke=\"#000000\"/>\n",
       "<text fill=\"#000000\" font-family=\"Times,serif\" font-size=\"14.00\" text-anchor=\"middle\" x=\"162.6128\" y=\"-169.3\">(None, 1, 100)</text>\n",
       "</g>\n",
       "<!-- 4861313376&#45;&gt;4871009952 -->\n",
       "<g class=\"edge\" id=\"edge2\">\n",
       "<title>4861313376-&gt;4871009952</title>\n",
       "<path d=\"M111.999,-243.3664C111.999,-235.1516 111.999,-225.6579 111.999,-216.7252\" fill=\"none\" stroke=\"#000000\"/>\n",
       "<polygon fill=\"#000000\" points=\"115.4991,-216.6068 111.999,-206.6068 108.4991,-216.6069 115.4991,-216.6068\" stroke=\"#000000\"/>\n",
       "</g>\n",
       "<!-- 4871010960 -->\n",
       "<g class=\"node\" id=\"node4\">\n",
       "<title>4871010960</title>\n",
       "<polygon fill=\"none\" points=\"12.561,-81.5 12.561,-125.5 211.437,-125.5 211.437,-81.5 12.561,-81.5\" stroke=\"#000000\"/>\n",
       "<text fill=\"#000000\" font-family=\"Times,serif\" font-size=\"14.00\" text-anchor=\"middle\" x=\"35.3403\" y=\"-99.3\">GRU</text>\n",
       "<polyline fill=\"none\" points=\"58.1196,-81.5 58.1196,-125.5 \" stroke=\"#000000\"/>\n",
       "<text fill=\"#000000\" font-family=\"Times,serif\" font-size=\"14.00\" text-anchor=\"middle\" x=\"85.9541\" y=\"-110.3\">input:</text>\n",
       "<polyline fill=\"none\" points=\"58.1196,-103.5 113.7886,-103.5 \" stroke=\"#000000\"/>\n",
       "<text fill=\"#000000\" font-family=\"Times,serif\" font-size=\"14.00\" text-anchor=\"middle\" x=\"85.9541\" y=\"-88.3\">output:</text>\n",
       "<polyline fill=\"none\" points=\"113.7886,-81.5 113.7886,-125.5 \" stroke=\"#000000\"/>\n",
       "<text fill=\"#000000\" font-family=\"Times,serif\" font-size=\"14.00\" text-anchor=\"middle\" x=\"162.6128\" y=\"-110.3\">(None, 1, 100)</text>\n",
       "<polyline fill=\"none\" points=\"113.7886,-103.5 211.437,-103.5 \" stroke=\"#000000\"/>\n",
       "<text fill=\"#000000\" font-family=\"Times,serif\" font-size=\"14.00\" text-anchor=\"middle\" x=\"162.6128\" y=\"-88.3\">(None, 100)</text>\n",
       "</g>\n",
       "<!-- 4871009952&#45;&gt;4871010960 -->\n",
       "<g class=\"edge\" id=\"edge3\">\n",
       "<title>4871009952-&gt;4871010960</title>\n",
       "<path d=\"M111.999,-162.3664C111.999,-154.1516 111.999,-144.6579 111.999,-135.7252\" fill=\"none\" stroke=\"#000000\"/>\n",
       "<polygon fill=\"#000000\" points=\"115.4991,-135.6068 111.999,-125.6068 108.4991,-135.6069 115.4991,-135.6068\" stroke=\"#000000\"/>\n",
       "</g>\n",
       "<!-- 4871011464 -->\n",
       "<g class=\"node\" id=\"node5\">\n",
       "<title>4871011464</title>\n",
       "<polygon fill=\"none\" points=\"16.8472,-.5 16.8472,-44.5 207.1509,-44.5 207.1509,-.5 16.8472,-.5\" stroke=\"#000000\"/>\n",
       "<text fill=\"#000000\" font-family=\"Times,serif\" font-size=\"14.00\" text-anchor=\"middle\" x=\"42.3403\" y=\"-18.3\">Dense</text>\n",
       "<polyline fill=\"none\" points=\"67.8335,-.5 67.8335,-44.5 \" stroke=\"#000000\"/>\n",
       "<text fill=\"#000000\" font-family=\"Times,serif\" font-size=\"14.00\" text-anchor=\"middle\" x=\"95.668\" y=\"-29.3\">input:</text>\n",
       "<polyline fill=\"none\" points=\"67.8335,-22.5 123.5024,-22.5 \" stroke=\"#000000\"/>\n",
       "<text fill=\"#000000\" font-family=\"Times,serif\" font-size=\"14.00\" text-anchor=\"middle\" x=\"95.668\" y=\"-7.3\">output:</text>\n",
       "<polyline fill=\"none\" points=\"123.5024,-.5 123.5024,-44.5 \" stroke=\"#000000\"/>\n",
       "<text fill=\"#000000\" font-family=\"Times,serif\" font-size=\"14.00\" text-anchor=\"middle\" x=\"165.3267\" y=\"-29.3\">(None, 100)</text>\n",
       "<polyline fill=\"none\" points=\"123.5024,-22.5 207.1509,-22.5 \" stroke=\"#000000\"/>\n",
       "<text fill=\"#000000\" font-family=\"Times,serif\" font-size=\"14.00\" text-anchor=\"middle\" x=\"165.3267\" y=\"-7.3\">(None, 1)</text>\n",
       "</g>\n",
       "<!-- 4871010960&#45;&gt;4871011464 -->\n",
       "<g class=\"edge\" id=\"edge4\">\n",
       "<title>4871010960-&gt;4871011464</title>\n",
       "<path d=\"M111.999,-81.3664C111.999,-73.1516 111.999,-63.6579 111.999,-54.7252\" fill=\"none\" stroke=\"#000000\"/>\n",
       "<polygon fill=\"#000000\" points=\"115.4991,-54.6068 111.999,-44.6068 108.4991,-54.6069 115.4991,-54.6068\" stroke=\"#000000\"/>\n",
       "</g>\n",
       "</g>\n",
       "</svg>"
      ],
      "text/plain": [
       "<IPython.core.display.SVG object>"
      ]
     },
     "execution_count": 13,
     "metadata": {},
     "output_type": "execute_result"
    }
   ],
   "source": [
    "arch = model_to_dot(model, show_shapes=True, show_layer_names=False)\n",
    "arch.write_pdf('results/gru-arch.pdf')\n",
    "SVG(arch.create(prog='dot', format='svg'))"
   ]
  },
  {
   "cell_type": "markdown",
   "metadata": {},
   "source": [
    "# Experiment"
   ]
  },
  {
   "cell_type": "code",
   "execution_count": 14,
   "metadata": {
    "scrolled": true
   },
   "outputs": [
    {
     "name": "stdout",
     "output_type": "stream",
     "text": [
      "Train on 21161 samples, validate on 767 samples\n",
      "Epoch 1/50\n",
      " - 6s - loss: 2.7956e-04 - val_loss: 1.5113e-04\n",
      "Epoch 2/50\n",
      " - 1s - loss: 2.8196e-04 - val_loss: 1.0149e-04\n",
      "Epoch 3/50\n",
      " - 1s - loss: 2.6698e-04 - val_loss: 1.4106e-04\n",
      "Epoch 4/50\n",
      " - 1s - loss: 2.8738e-04 - val_loss: 1.8188e-04\n",
      "Epoch 5/50\n",
      " - 1s - loss: 2.9824e-04 - val_loss: 2.0288e-04\n",
      "Epoch 6/50\n",
      " - 1s - loss: 3.0803e-04 - val_loss: 2.1561e-04\n",
      "Epoch 7/50\n",
      " - 1s - loss: 3.1160e-04 - val_loss: 2.2746e-04\n",
      "Epoch 8/50\n",
      " - 1s - loss: 3.2113e-04 - val_loss: 2.0308e-04\n",
      "Epoch 9/50\n",
      " - 1s - loss: 3.1703e-04 - val_loss: 1.5399e-04\n",
      "Epoch 10/50\n",
      " - 1s - loss: 3.1034e-04 - val_loss: 1.0116e-04\n",
      "Epoch 11/50\n",
      " - 1s - loss: 2.8745e-04 - val_loss: 7.8415e-05\n",
      "Epoch 12/50\n",
      " - 1s - loss: 2.6956e-04 - val_loss: 7.2183e-05\n",
      "Epoch 13/50\n",
      " - 1s - loss: 2.6626e-04 - val_loss: 7.5326e-05\n",
      "Epoch 14/50\n",
      " - 1s - loss: 2.6876e-04 - val_loss: 7.3873e-05\n",
      "Epoch 15/50\n",
      " - 1s - loss: 2.6675e-04 - val_loss: 7.0625e-05\n",
      "Epoch 16/50\n",
      " - 1s - loss: 2.6399e-04 - val_loss: 6.9191e-05\n",
      "Epoch 17/50\n",
      " - 1s - loss: 2.6241e-04 - val_loss: 6.7851e-05\n",
      "Epoch 18/50\n",
      " - 1s - loss: 2.6097e-04 - val_loss: 6.6237e-05\n",
      "Epoch 19/50\n",
      " - 1s - loss: 2.5936e-04 - val_loss: 6.4671e-05\n",
      "Epoch 20/50\n",
      " - 1s - loss: 2.5770e-04 - val_loss: 6.3293e-05\n",
      "Epoch 21/50\n",
      " - 1s - loss: 2.5619e-04 - val_loss: 6.1907e-05\n",
      "Epoch 22/50\n",
      " - 1s - loss: 2.5465e-04 - val_loss: 6.0617e-05\n",
      "Epoch 23/50\n",
      " - 1s - loss: 2.5321e-04 - val_loss: 5.9238e-05\n",
      "Epoch 24/50\n",
      " - 1s - loss: 2.5159e-04 - val_loss: 5.8077e-05\n",
      "Epoch 25/50\n",
      " - 1s - loss: 2.5026e-04 - val_loss: 5.7117e-05\n",
      "Epoch 26/50\n",
      " - 1s - loss: 2.4909e-04 - val_loss: 5.5928e-05\n",
      "Epoch 27/50\n",
      " - 1s - loss: 2.4756e-04 - val_loss: 5.4949e-05\n",
      "Epoch 28/50\n",
      " - 1s - loss: 2.4644e-04 - val_loss: 5.4019e-05\n",
      "Epoch 29/50\n",
      " - 1s - loss: 2.4507e-04 - val_loss: 5.3033e-05\n",
      "Epoch 30/50\n",
      " - 1s - loss: 2.4386e-04 - val_loss: 5.2258e-05\n",
      "Epoch 31/50\n",
      " - 1s - loss: 2.4267e-04 - val_loss: 5.1508e-05\n",
      "Epoch 32/50\n",
      " - 1s - loss: 2.4170e-04 - val_loss: 5.0753e-05\n",
      "Epoch 33/50\n",
      " - 1s - loss: 2.4047e-04 - val_loss: 4.9935e-05\n",
      "Epoch 34/50\n",
      " - 1s - loss: 2.3939e-04 - val_loss: 4.9323e-05\n",
      "Epoch 35/50\n",
      " - 1s - loss: 2.3832e-04 - val_loss: 4.8651e-05\n",
      "Epoch 36/50\n",
      " - 1s - loss: 2.3733e-04 - val_loss: 4.8108e-05\n",
      "Epoch 37/50\n",
      " - 1s - loss: 2.3631e-04 - val_loss: 4.7569e-05\n",
      "Epoch 38/50\n",
      " - 1s - loss: 2.3535e-04 - val_loss: 4.7265e-05\n",
      "Epoch 39/50\n",
      " - 1s - loss: 2.3451e-04 - val_loss: 4.7056e-05\n",
      "Epoch 40/50\n",
      " - 1s - loss: 2.3404e-04 - val_loss: 4.6749e-05\n",
      "Epoch 41/50\n",
      " - 1s - loss: 2.3317e-04 - val_loss: 4.5787e-05\n",
      "Epoch 42/50\n",
      " - 1s - loss: 2.3208e-04 - val_loss: 4.5481e-05\n",
      "Epoch 43/50\n",
      " - 1s - loss: 2.3091e-04 - val_loss: 4.4994e-05\n",
      "Epoch 44/50\n",
      " - 1s - loss: 2.3046e-04 - val_loss: 4.5040e-05\n",
      "Epoch 45/50\n",
      " - 1s - loss: 2.2952e-04 - val_loss: 4.4229e-05\n",
      "Epoch 46/50\n",
      " - 1s - loss: 2.2903e-04 - val_loss: 4.4094e-05\n",
      "Epoch 47/50\n",
      " - 1s - loss: 2.2770e-04 - val_loss: 4.3392e-05\n",
      "Epoch 48/50\n",
      " - 1s - loss: 2.2745e-04 - val_loss: 4.3391e-05\n",
      "Epoch 49/50\n",
      " - 1s - loss: 2.2602e-04 - val_loss: 4.2672e-05\n",
      "Epoch 50/50\n",
      " - 1s - loss: 2.2591e-04 - val_loss: 4.2797e-05\n"
     ]
    }
   ],
   "source": [
    "history = model.fit(X_train, y_train, epochs=50, batch_size=1000, validation_data=(X_test, y_test), verbose=2, shuffle=False)"
   ]
  },
  {
   "cell_type": "code",
   "execution_count": 15,
   "metadata": {},
   "outputs": [],
   "source": [
    "results = pd.DataFrame([history.history['loss'], history.history['val_loss']], index=['train', 'validation']).T"
   ]
  },
  {
   "cell_type": "code",
   "execution_count": 16,
   "metadata": {},
   "outputs": [
    {
     "data": {
      "text/plain": [
       "Text(0.5,0,'Epoch')"
      ]
     },
     "execution_count": 16,
     "metadata": {},
     "output_type": "execute_result"
    },
    {
     "data": {
      "image/png": "[encoded data removed]",
      "text/plain": [
       "<matplotlib.figure.Figure at 0x11cef1b00>"
      ]
     },
     "metadata": {},
     "output_type": "display_data"
    }
   ],
   "source": [
    "ax = results.plot()\n",
    "ax.set_ylabel('Mean Squared Error')\n",
    "ax.set_xlabel('Epoch')"
   ]
  },
  {
   "cell_type": "markdown",
   "metadata": {},
   "source": [
    "# Train Error"
   ]
  },
  {
   "cell_type": "code",
   "execution_count": 17,
   "metadata": {},
   "outputs": [],
   "source": [
    "train_pred = model.predict(X_train).reshape(-1)"
   ]
  },
  {
   "cell_type": "code",
   "execution_count": 18,
   "metadata": {},
   "outputs": [
    {
     "data": {
      "text/plain": [
       "205.82981241696567"
      ]
     },
     "execution_count": 18,
     "metadata": {},
     "output_type": "execute_result"
    }
   ],
   "source": [
    "train_err = mean_squared_error(y_train * 1000, train_pred * 1000)\n",
    "train_err"
   ]
  },
  {
   "cell_type": "code",
   "execution_count": 19,
   "metadata": {},
   "outputs": [],
   "source": [
    "train_df = pd.DataFrame([y_train, train_pred], index=['Truth', 'Predictions']).T * 1000"
   ]
  },
  {
   "cell_type": "code",
   "execution_count": 20,
   "metadata": {},
   "outputs": [
    {
     "data": {
      "image/png": "[encoded data removed]",
      "text/plain": [
       "<matplotlib.figure.Figure at 0x10fcfd2e8>"
      ]
     },
     "metadata": {},
     "output_type": "display_data"
    }
   ],
   "source": [
    "ax = train_df.plot(figsize=(16, 4))\n",
    "ax.set_ylabel('$\\MWHr')\n",
    "ax.set_xlabel('Time Step')\n",
    "plt.savefig('results/gru-train.pdf')\n",
    "plt.savefig('results/gru-train.svg')"
   ]
  },
  {
   "cell_type": "markdown",
   "metadata": {},
   "source": [
    "# Test Error"
   ]
  },
  {
   "cell_type": "code",
   "execution_count": 21,
   "metadata": {},
   "outputs": [],
   "source": [
    "test_pred = model.predict(X_test).reshape(-1)"
   ]
  },
  {
   "cell_type": "code",
   "execution_count": 22,
   "metadata": {},
   "outputs": [
    {
     "data": {
      "text/plain": [
       "42.796668182609835"
      ]
     },
     "execution_count": 22,
     "metadata": {},
     "output_type": "execute_result"
    }
   ],
   "source": [
    "test_err = mean_squared_error(y_test * 1000, test_pred * 1000)\n",
    "test_err"
   ]
  },
  {
   "cell_type": "code",
   "execution_count": 23,
   "metadata": {},
   "outputs": [],
   "source": [
    "test_df = pd.DataFrame([y_test, test_pred], index=['Truth', 'Predictions']).T * 1000"
   ]
  },
  {
   "cell_type": "code",
   "execution_count": 24,
   "metadata": {},
   "outputs": [
    {
     "data": {
      "image/png": "[encoded data removed]",
      "text/plain": [
       "<matplotlib.figure.Figure at 0x11d3c4978>"
      ]
     },
     "metadata": {},
     "output_type": "display_data"
    }
   ],
   "source": [
    "ax = test_df.plot(figsize=(16, 4))\n",
    "ax.set_ylabel('$\\MWHr')\n",
    "ax.set_xlabel('Time Step')\n",
    "plt.savefig('results/gru-test.pdf')\n",
    "plt.savefig('results/gru-test.svg')"
   ]
  },
  {
   "cell_type": "markdown",
   "metadata": {},
   "source": [
    "# Results"
   ]
  },
  {
   "cell_type": "code",
   "execution_count": 25,
   "metadata": {},
   "outputs": [
    {
     "data": {
      "text/plain": [
       "Train    205.829812\n",
       "Test      42.796668\n",
       "dtype: float64"
      ]
     },
     "execution_count": 25,
     "metadata": {},
     "output_type": "execute_result"
    }
   ],
   "source": [
    "results = pd.Series([train_err, test_err], index=['Train', 'Test'])\n",
    "results"
   ]
  },
  {
   "cell_type": "code",
   "execution_count": 26,
   "metadata": {},
   "outputs": [],
   "source": [
    "results.to_csv('results/gru-mse.csv')"
   ]
  },
  {
   "cell_type": "markdown",
   "metadata": {},
   "source": [
    " "
   ]
  }
 ],
 "metadata": {
  "kernelspec": {
   "display_name": "Python 3",
   "language": "python",
   "name": "python3"
  },
  "language_info": {
   "codemirror_mode": {
    "name": "ipython",
    "version": 3
   },
   "file_extension": ".py",
   "mimetype": "text/x-python",
   "name": "python",
   "nbconvert_exporter": "python",
   "pygments_lexer": "ipython3",
   "version": "3.6.4"
  },
  "widgets": {
   "application/vnd.jupyter.widget-state+json": {
    "state": {
     "02a4ae165f7f4d18b175960dc059beed": {
      "model_module": "@jupyter-widgets/controls",
      "model_module_version": "1.1.0",
      "model_name": "ProgressStyleModel",
      "state": {
       "description_width": ""
      }
     },
     "076b47e5804345028e7030dad5de1747": {
      "model_module": "@jupyter-widgets/base",
      "model_module_version": "1.0.0",
      "model_name": "LayoutModel",
      "state": {}
     },
     "0a58a3a78a884709b8936a7bf8bb8522": {
      "model_module": "@jupyter-widgets/controls",
      "model_module_version": "1.1.0",
      "model_name": "DescriptionStyleModel",
      "state": {
       "description_width": ""
      }
     },
     "10400e52d77b4c678bb330ff697f8c58": {
      "model_module": "@jupyter-widgets/controls",
      "model_module_version": "1.1.0",
      "model_name": "ProgressStyleModel",
      "state": {
       "description_width": ""
      }
     },
     "1360475d03414b09b95866aa7676f9a1": {
      "model_module": "@jupyter-widgets/controls",
      "model_module_version": "1.1.0",
      "model_name": "HTMLModel",
      "state": {
       "layout": "IPY_MODEL_d8db57675c514c4eb15aecc67fdf0154",
       "style": "IPY_MODEL_755099150bd2485b9736e21836bde211",
       "value": "  0% 0/12 [00:00&lt;?, ?interval/s]"
      }
     },
     "1a392dec047240f99a77dfa54ca3b24a": {
      "model_module": "@jupyter-widgets/controls",
      "model_module_version": "1.1.0",
      "model_name": "HTMLModel",
      "state": {
       "layout": "IPY_MODEL_83f3035b28d048d6ba1d68499b1d47be",
       "style": "IPY_MODEL_0a58a3a78a884709b8936a7bf8bb8522",
       "value": "  0% 0/30 [00:00&lt;?, ?experiment/s]"
      }
     },
     "20fd7abfa28b4365b7d14aee01634185": {
      "model_module": "@jupyter-widgets/controls",
      "model_module_version": "1.1.0",
      "model_name": "HBoxModel",
      "state": {
       "children": [
        "IPY_MODEL_cb260a2ec4dc40f9a756296c0bd170db",
        "IPY_MODEL_433e1a54bc2c4c4d90dabd669a6b2da4"
       ],
       "layout": "IPY_MODEL_acee0a66d5084427a917ef81ed3ae689"
      }
     },
     "27caab26a3bc44189bf43331f3ea6835": {
      "model_module": "@jupyter-widgets/controls",
      "model_module_version": "1.1.0",
      "model_name": "HTMLModel",
      "state": {
       "layout": "IPY_MODEL_acc960591252424f88207e71fdc94935",
       "style": "IPY_MODEL_3a0fd6e2e61c47cc88cbff284696ad53",
       "value": " 80% 24/30 [1:02:32&lt;15:38, 156.36s/experiment]"
      }
     },
     "2df27ee0d2a74ed9a65c3f2ad5744e0e": {
      "model_module": "@jupyter-widgets/controls",
      "model_module_version": "1.1.0",
      "model_name": "ProgressStyleModel",
      "state": {
       "description_width": ""
      }
     },
     "2ff1dfd0affe42589593aefe51e61eab": {
      "model_module": "@jupyter-widgets/base",
      "model_module_version": "1.0.0",
      "model_name": "LayoutModel",
      "state": {}
     },
     "308c194343ba444ca4c2d8dd14e0ab32": {
      "model_module": "@jupyter-widgets/controls",
      "model_module_version": "1.1.0",
      "model_name": "DescriptionStyleModel",
      "state": {
       "description_width": ""
      }
     },
     "35271685582b43209ecc36befce12669": {
      "model_module": "@jupyter-widgets/controls",
      "model_module_version": "1.1.0",
      "model_name": "HBoxModel",
      "state": {
       "children": [
        "IPY_MODEL_3bf0ecf8caa143d98e5fb7d89e643b07",
        "IPY_MODEL_1a392dec047240f99a77dfa54ca3b24a"
       ],
       "layout": "IPY_MODEL_39653e51f70543a58d319997543a49af"
      }
     },
     "391adb8920b9449c8b5edeaebdd41f33": {
      "model_module": "@jupyter-widgets/controls",
      "model_module_version": "1.1.0",
      "model_name": "IntProgressModel",
      "state": {
       "layout": "IPY_MODEL_7504de1353ac4750806ba2ce751694d6",
       "max": 12,
       "style": "IPY_MODEL_f2c44e513bff41febeb3dd4af0df6e06"
      }
     },
     "39653e51f70543a58d319997543a49af": {
      "model_module": "@jupyter-widgets/base",
      "model_module_version": "1.0.0",
      "model_name": "LayoutModel",
      "state": {}
     },
     "3a0fd6e2e61c47cc88cbff284696ad53": {
      "model_module": "@jupyter-widgets/controls",
      "model_module_version": "1.1.0",
      "model_name": "DescriptionStyleModel",
      "state": {
       "description_width": ""
      }
     },
     "3b8d572c742242798a477c182c8fc171": {
      "model_module": "@jupyter-widgets/base",
      "model_module_version": "1.0.0",
      "model_name": "LayoutModel",
      "state": {}
     },
     "3bf0ecf8caa143d98e5fb7d89e643b07": {
      "model_module": "@jupyter-widgets/controls",
      "model_module_version": "1.1.0",
      "model_name": "IntProgressModel",
      "state": {
       "layout": "IPY_MODEL_3b8d572c742242798a477c182c8fc171",
       "max": 30,
       "style": "IPY_MODEL_cb4ff9fa317046648a582f39ff0ed98b"
      }
     },
     "3c21c1da98a549caab1cae0e3ecad77d": {
      "model_module": "@jupyter-widgets/base",
      "model_module_version": "1.0.0",
      "model_name": "LayoutModel",
      "state": {}
     },
     "432ce912ceb642a898f1bfc7e15eff72": {
      "model_module": "@jupyter-widgets/controls",
      "model_module_version": "1.1.0",
      "model_name": "DescriptionStyleModel",
      "state": {
       "description_width": ""
      }
     },
     "433e1a54bc2c4c4d90dabd669a6b2da4": {
      "model_module": "@jupyter-widgets/controls",
      "model_module_version": "1.1.0",
      "model_name": "HTMLModel",
      "state": {
       "layout": "IPY_MODEL_5790b3df5eb8441380cc8b1c021b461c",
       "style": "IPY_MODEL_adbfc0c0d7714550be8ace61138da121",
       "value": "100% 30/30 [7:20:41&lt;00:00, 881.38s/experiment]"
      }
     },
     "460758bbe084429a89c868ba4fcad7a2": {
      "model_module": "@jupyter-widgets/controls",
      "model_module_version": "1.1.0",
      "model_name": "HBoxModel",
      "state": {
       "children": [
        "IPY_MODEL_8a5c79381df349eaaf67368e3d341298",
        "IPY_MODEL_e3d83e1c3eaf4605854af649cbf73271"
       ],
       "layout": "IPY_MODEL_2ff1dfd0affe42589593aefe51e61eab"
      }
     },
     "4850afc1ffa84fd1a4e6fa65d3a108a7": {
      "model_module": "@jupyter-widgets/base",
      "model_module_version": "1.0.0",
      "model_name": "LayoutModel",
      "state": {}
     },
     "496df30ccc404d26960a7784a4b1baa5": {
      "model_module": "@jupyter-widgets/controls",
      "model_module_version": "1.1.0",
      "model_name": "HTMLModel",
      "state": {
       "layout": "IPY_MODEL_a6e788fcc2134d4e9eb587d75ce712f6",
       "style": "IPY_MODEL_308c194343ba444ca4c2d8dd14e0ab32",
       "value": "  0% 0/30 [00:00&lt;?, ?experiment/s]"
      }
     },
     "5790b3df5eb8441380cc8b1c021b461c": {
      "model_module": "@jupyter-widgets/base",
      "model_module_version": "1.0.0",
      "model_name": "LayoutModel",
      "state": {}
     },
     "73be8e8de0a9412bb4453627de8465e9": {
      "model_module": "@jupyter-widgets/controls",
      "model_module_version": "1.1.0",
      "model_name": "IntProgressModel",
      "state": {
       "bar_style": "danger",
       "layout": "IPY_MODEL_ff5c8350864845969058116cf6a102b8",
       "max": 12,
       "style": "IPY_MODEL_10400e52d77b4c678bb330ff697f8c58"
      }
     },
     "7504de1353ac4750806ba2ce751694d6": {
      "model_module": "@jupyter-widgets/base",
      "model_module_version": "1.0.0",
      "model_name": "LayoutModel",
      "state": {}
     },
     "755099150bd2485b9736e21836bde211": {
      "model_module": "@jupyter-widgets/controls",
      "model_module_version": "1.1.0",
      "model_name": "DescriptionStyleModel",
      "state": {
       "description_width": ""
      }
     },
     "7b138f75dc404046a4a15db35897f35e": {
      "model_module": "@jupyter-widgets/base",
      "model_module_version": "1.0.0",
      "model_name": "LayoutModel",
      "state": {}
     },
     "81743f3dcda14543831e53ae0d93591a": {
      "model_module": "@jupyter-widgets/base",
      "model_module_version": "1.0.0",
      "model_name": "LayoutModel",
      "state": {}
     },
     "83f3035b28d048d6ba1d68499b1d47be": {
      "model_module": "@jupyter-widgets/base",
      "model_module_version": "1.0.0",
      "model_name": "LayoutModel",
      "state": {}
     },
     "8a5c79381df349eaaf67368e3d341298": {
      "model_module": "@jupyter-widgets/controls",
      "model_module_version": "1.1.0",
      "model_name": "IntProgressModel",
      "state": {
       "bar_style": "danger",
       "layout": "IPY_MODEL_f529f4d7440b4b4fbb6142f487271d15",
       "max": 12,
       "style": "IPY_MODEL_fbde54ad608f4f09adf1fad9f37cc614"
      }
     },
     "8a9ae41ae53e4600ba94726ab2560630": {
      "model_module": "@jupyter-widgets/controls",
      "model_module_version": "1.1.0",
      "model_name": "IntProgressModel",
      "state": {
       "bar_style": "danger",
       "layout": "IPY_MODEL_e8889d985389404a8b9ae15a2c555aa6",
       "max": 30,
       "style": "IPY_MODEL_02a4ae165f7f4d18b175960dc059beed",
       "value": 24
      }
     },
     "8afe3d9c539541b4920f42fd73908e59": {
      "model_module": "@jupyter-widgets/controls",
      "model_module_version": "1.1.0",
      "model_name": "ProgressStyleModel",
      "state": {
       "description_width": ""
      }
     },
     "8cb01fb1279343219e9d8d6ecbe51c98": {
      "model_module": "@jupyter-widgets/controls",
      "model_module_version": "1.1.0",
      "model_name": "HBoxModel",
      "state": {
       "children": [
        "IPY_MODEL_391adb8920b9449c8b5edeaebdd41f33",
        "IPY_MODEL_1360475d03414b09b95866aa7676f9a1"
       ],
       "layout": "IPY_MODEL_7b138f75dc404046a4a15db35897f35e"
      }
     },
     "9024ac17aedb49908b63666cfe32656d": {
      "model_module": "@jupyter-widgets/controls",
      "model_module_version": "1.1.0",
      "model_name": "HBoxModel",
      "state": {
       "children": [
        "IPY_MODEL_73be8e8de0a9412bb4453627de8465e9",
        "IPY_MODEL_db6a5c8b4ce249988ec6f5e6a660a32e"
       ],
       "layout": "IPY_MODEL_c558edafdc03460aabac068820b0c2ee"
      }
     },
     "9431594f28ab44dca0d04c0b92e16ecb": {
      "model_module": "@jupyter-widgets/base",
      "model_module_version": "1.0.0",
      "model_name": "LayoutModel",
      "state": {}
     },
     "9b66a6beb2eb4730a82019abcf671856": {
      "model_module": "@jupyter-widgets/base",
      "model_module_version": "1.0.0",
      "model_name": "LayoutModel",
      "state": {}
     },
     "a6e788fcc2134d4e9eb587d75ce712f6": {
      "model_module": "@jupyter-widgets/base",
      "model_module_version": "1.0.0",
      "model_name": "LayoutModel",
      "state": {}
     },
     "ab39fa72c3c44ed1a047c6a837c5d765": {
      "model_module": "@jupyter-widgets/controls",
      "model_module_version": "1.1.0",
      "model_name": "HBoxModel",
      "state": {
       "children": [
        "IPY_MODEL_8a9ae41ae53e4600ba94726ab2560630",
        "IPY_MODEL_27caab26a3bc44189bf43331f3ea6835"
       ],
       "layout": "IPY_MODEL_9431594f28ab44dca0d04c0b92e16ecb"
      }
     },
     "acc960591252424f88207e71fdc94935": {
      "model_module": "@jupyter-widgets/base",
      "model_module_version": "1.0.0",
      "model_name": "LayoutModel",
      "state": {}
     },
     "acee0a66d5084427a917ef81ed3ae689": {
      "model_module": "@jupyter-widgets/base",
      "model_module_version": "1.0.0",
      "model_name": "LayoutModel",
      "state": {}
     },
     "adbfc0c0d7714550be8ace61138da121": {
      "model_module": "@jupyter-widgets/controls",
      "model_module_version": "1.1.0",
      "model_name": "DescriptionStyleModel",
      "state": {
       "description_width": ""
      }
     },
     "b20cdbad9f714d9d9e3f5e16a2d0e3f7": {
      "model_module": "@jupyter-widgets/controls",
      "model_module_version": "1.1.0",
      "model_name": "IntProgressModel",
      "state": {
       "bar_style": "danger",
       "layout": "IPY_MODEL_076b47e5804345028e7030dad5de1747",
       "max": 30,
       "style": "IPY_MODEL_8afe3d9c539541b4920f42fd73908e59"
      }
     },
     "bcdf02c702dd4da7b4dc9e8e9a3fccd7": {
      "model_module": "@jupyter-widgets/controls",
      "model_module_version": "1.1.0",
      "model_name": "HBoxModel",
      "state": {
       "children": [
        "IPY_MODEL_b20cdbad9f714d9d9e3f5e16a2d0e3f7",
        "IPY_MODEL_496df30ccc404d26960a7784a4b1baa5"
       ],
       "layout": "IPY_MODEL_3c21c1da98a549caab1cae0e3ecad77d"
      }
     },
     "bfcc555edbf1478fa8b96b61247bce65": {
      "model_module": "@jupyter-widgets/controls",
      "model_module_version": "1.1.0",
      "model_name": "DescriptionStyleModel",
      "state": {
       "description_width": ""
      }
     },
     "c558edafdc03460aabac068820b0c2ee": {
      "model_module": "@jupyter-widgets/base",
      "model_module_version": "1.0.0",
      "model_name": "LayoutModel",
      "state": {}
     },
     "cb260a2ec4dc40f9a756296c0bd170db": {
      "model_module": "@jupyter-widgets/controls",
      "model_module_version": "1.1.0",
      "model_name": "IntProgressModel",
      "state": {
       "bar_style": "success",
       "layout": "IPY_MODEL_9b66a6beb2eb4730a82019abcf671856",
       "max": 30,
       "style": "IPY_MODEL_2df27ee0d2a74ed9a65c3f2ad5744e0e",
       "value": 30
      }
     },
     "cb4ff9fa317046648a582f39ff0ed98b": {
      "model_module": "@jupyter-widgets/controls",
      "model_module_version": "1.1.0",
      "model_name": "ProgressStyleModel",
      "state": {
       "description_width": ""
      }
     },
     "d8db57675c514c4eb15aecc67fdf0154": {
      "model_module": "@jupyter-widgets/base",
      "model_module_version": "1.0.0",
      "model_name": "LayoutModel",
      "state": {}
     },
     "db6a5c8b4ce249988ec6f5e6a660a32e": {
      "model_module": "@jupyter-widgets/controls",
      "model_module_version": "1.1.0",
      "model_name": "HTMLModel",
      "state": {
       "layout": "IPY_MODEL_4850afc1ffa84fd1a4e6fa65d3a108a7",
       "style": "IPY_MODEL_bfcc555edbf1478fa8b96b61247bce65",
       "value": "  0% 0/12 [00:00&lt;?, ?interval/s]"
      }
     },
     "e3d83e1c3eaf4605854af649cbf73271": {
      "model_module": "@jupyter-widgets/controls",
      "model_module_version": "1.1.0",
      "model_name": "HTMLModel",
      "state": {
       "layout": "IPY_MODEL_81743f3dcda14543831e53ae0d93591a",
       "style": "IPY_MODEL_432ce912ceb642a898f1bfc7e15eff72",
       "value": "  0% 0/12 [00:00&lt;?, ?interval/s]"
      }
     },
     "e8889d985389404a8b9ae15a2c555aa6": {
      "model_module": "@jupyter-widgets/base",
      "model_module_version": "1.0.0",
      "model_name": "LayoutModel",
      "state": {}
     },
     "f2c44e513bff41febeb3dd4af0df6e06": {
      "model_module": "@jupyter-widgets/controls",
      "model_module_version": "1.1.0",
      "model_name": "ProgressStyleModel",
      "state": {
       "description_width": ""
      }
     },
     "f529f4d7440b4b4fbb6142f487271d15": {
      "model_module": "@jupyter-widgets/base",
      "model_module_version": "1.0.0",
      "model_name": "LayoutModel",
      "state": {}
     },
     "fbde54ad608f4f09adf1fad9f37cc614": {
      "model_module": "@jupyter-widgets/controls",
      "model_module_version": "1.1.0",
      "model_name": "ProgressStyleModel",
      "state": {
       "description_width": ""
      }
     },
     "ff5c8350864845969058116cf6a102b8": {
      "model_module": "@jupyter-widgets/base",
      "model_module_version": "1.0.0",
      "model_name": "LayoutModel",
      "state": {}
     }
    },
    "version_major": 2,
    "version_minor": 0
   }
  }
 },
 "nbformat": 4,
 "nbformat_minor": 2
}
