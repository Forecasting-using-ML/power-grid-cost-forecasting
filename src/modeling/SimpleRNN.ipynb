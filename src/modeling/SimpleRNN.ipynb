{
 "cells": [
  {
   "cell_type": "markdown",
   "metadata": {},
   "source": [
    "# Imports"
   ]
  },
  {
   "cell_type": "code",
   "execution_count": 1,
   "metadata": {},
   "outputs": [
    {
     "name": "stderr",
     "output_type": "stream",
     "text": [
      "/usr/local/lib/python3.6/site-packages/h5py/__init__.py:36: FutureWarning: Conversion of the second argument of issubdtype from `float` to `np.floating` is deprecated. In future, it will be treated as `np.float64 == np.dtype(float).type`.\n",
      "  from ._conv import register_converters as _register_converters\n"
     ]
    }
   ],
   "source": [
    "import numpy as np\n",
    "np.random.seed(1)\n",
    "import tensorflow\n",
    "tensorflow.set_random_seed(1)"
   ]
  },
  {
   "cell_type": "code",
   "execution_count": 2,
   "metadata": {},
   "outputs": [],
   "source": [
    "import os\n",
    "import pandas as pd\n",
    "from matplotlib import pyplot as plt\n",
    "%matplotlib inline"
   ]
  },
  {
   "cell_type": "code",
   "execution_count": 3,
   "metadata": {},
   "outputs": [
    {
     "name": "stderr",
     "output_type": "stream",
     "text": [
      "Using TensorFlow backend.\n"
     ]
    }
   ],
   "source": [
    "from sklearn.metrics import mean_squared_error\n",
    "from keras.models import Model\n",
    "from keras.models import Sequential\n",
    "from keras.layers import SimpleRNN\n",
    "from keras.layers import Dense\n",
    "# from keras.layers import Activation\n",
    "# from keras.layers import BatchNormalization\n",
    "# from keras.layers import Dropout\n",
    "from keras.optimizers import Nadam, Adam\n",
    "from keras.wrappers.scikit_learn import KerasClassifier\n",
    "from keras import backend as K\n",
    "from keras.utils.vis_utils import model_to_dot\n",
    "from IPython.display import SVG"
   ]
  },
  {
   "cell_type": "code",
   "execution_count": 4,
   "metadata": {},
   "outputs": [],
   "source": [
    "if not os.path.exists('results'):\n",
    "    os.makedirs('results')"
   ]
  },
  {
   "cell_type": "markdown",
   "metadata": {},
   "source": [
    "# Dataset"
   ]
  },
  {
   "cell_type": "code",
   "execution_count": 5,
   "metadata": {},
   "outputs": [],
   "source": [
    "train = pd.read_csv('../feature_engineering/train.gz')\n",
    "X_train = train[train.columns[:-1]].values\n",
    "X_train /= 20000\n",
    "X_train = X_train.reshape(X_train.shape[0], 1, X_train.shape[1])\n",
    "y_train = train[train.columns[-1]].values\n",
    "y_train /= 1000"
   ]
  },
  {
   "cell_type": "code",
   "execution_count": 6,
   "metadata": {},
   "outputs": [
    {
     "data": {
      "text/plain": [
       "(21161, 1, 11)"
      ]
     },
     "execution_count": 6,
     "metadata": {},
     "output_type": "execute_result"
    }
   ],
   "source": [
    "X_train.shape"
   ]
  },
  {
   "cell_type": "code",
   "execution_count": 7,
   "metadata": {},
   "outputs": [
    {
     "data": {
      "text/plain": [
       "(21161,)"
      ]
     },
     "execution_count": 7,
     "metadata": {},
     "output_type": "execute_result"
    }
   ],
   "source": [
    "y_train.shape"
   ]
  },
  {
   "cell_type": "code",
   "execution_count": 8,
   "metadata": {},
   "outputs": [],
   "source": [
    "test = pd.read_csv('../feature_engineering/test.gz')\n",
    "X_test = test[test.columns[:-1]].values\n",
    "X_test /= 20000\n",
    "X_test = X_test.reshape(X_test.shape[0], 1, X_test.shape[1])\n",
    "y_test = test[test.columns[-1]].values\n",
    "y_test /= 1000"
   ]
  },
  {
   "cell_type": "code",
   "execution_count": 9,
   "metadata": {},
   "outputs": [
    {
     "data": {
      "text/plain": [
       "(767, 1, 11)"
      ]
     },
     "execution_count": 9,
     "metadata": {},
     "output_type": "execute_result"
    }
   ],
   "source": [
    "X_test.shape"
   ]
  },
  {
   "cell_type": "code",
   "execution_count": 10,
   "metadata": {},
   "outputs": [
    {
     "data": {
      "text/plain": [
       "(767,)"
      ]
     },
     "execution_count": 10,
     "metadata": {},
     "output_type": "execute_result"
    }
   ],
   "source": [
    "y_test.shape"
   ]
  },
  {
   "cell_type": "markdown",
   "metadata": {},
   "source": [
    "# Architecture"
   ]
  },
  {
   "cell_type": "code",
   "execution_count": 11,
   "metadata": {},
   "outputs": [],
   "source": [
    "def build_model(input_shape: tuple) -> Model:\n",
    "    \"\"\"\n",
    "    Build and compile a neural model.\n",
    "\n",
    "    Args:\n",
    "        input_shape: the input shape for the network\n",
    "\n",
    "    Returns:\n",
    "        a compiled sequential model with given input shape\n",
    "\n",
    "    \"\"\"\n",
    "    # clear the Keras session (only applies to keras models, but \n",
    "    # wont hurt sklearn ones to call this.\n",
    "    K.clear_session()\n",
    "    # create a sequential model with LSTM layers    \n",
    "    model = Sequential([\n",
    "        SimpleRNN(100, input_shape=input_shape, return_sequences=True),\n",
    "        SimpleRNN(100, return_sequences=True),\n",
    "        SimpleRNN(100),\n",
    "        Dense(1)\n",
    "    ])\n",
    "    # compile the model\n",
    "    model.compile(\n",
    "        loss='mean_squared_error', \n",
    "        optimizer=Adam(),\n",
    "    )\n",
    "\n",
    "    return model"
   ]
  },
  {
   "cell_type": "code",
   "execution_count": 12,
   "metadata": {},
   "outputs": [
    {
     "data": {
      "text/plain": [
       "<keras.models.Sequential at 0x1148fb320>"
      ]
     },
     "execution_count": 12,
     "metadata": {},
     "output_type": "execute_result"
    }
   ],
   "source": [
    "model = build_model((X_train.shape[1], X_train.shape[2]))\n",
    "model"
   ]
  },
  {
   "cell_type": "code",
   "execution_count": 13,
   "metadata": {},
   "outputs": [
    {
     "data": {
      "image/svg+xml": [
       "<svg height=\"377pt\" viewBox=\"0.00 0.00 246.54 377.00\" width=\"247pt\" xmlns=\"http://www.w3.org/2000/svg\" xmlns:xlink=\"http://www.w3.org/1999/xlink\">\n",
       "<g class=\"graph\" id=\"graph0\" transform=\"scale(1 1) rotate(0) translate(4 373)\">\n",
       "<title>G</title>\n",
       "<polygon fill=\"#ffffff\" points=\"-4,4 -4,-373 242.5449,-373 242.5449,4 -4,4\" stroke=\"transparent\"/>\n",
       "<!-- 4639928784 -->\n",
       "<g class=\"node\" id=\"node1\">\n",
       "<title>4639928784</title>\n",
       "<polygon fill=\"none\" points=\"7.2734,-324.5 7.2734,-368.5 231.2715,-368.5 231.2715,-324.5 7.2734,-324.5\" stroke=\"#000000\"/>\n",
       "<text fill=\"#000000\" font-family=\"Times,serif\" font-size=\"14.00\" text-anchor=\"middle\" x=\"46.3701\" y=\"-342.3\">InputLayer</text>\n",
       "<polyline fill=\"none\" points=\"85.4668,-324.5 85.4668,-368.5 \" stroke=\"#000000\"/>\n",
       "<text fill=\"#000000\" font-family=\"Times,serif\" font-size=\"14.00\" text-anchor=\"middle\" x=\"113.3013\" y=\"-353.3\">input:</text>\n",
       "<polyline fill=\"none\" points=\"85.4668,-346.5 141.1357,-346.5 \" stroke=\"#000000\"/>\n",
       "<text fill=\"#000000\" font-family=\"Times,serif\" font-size=\"14.00\" text-anchor=\"middle\" x=\"113.3013\" y=\"-331.3\">output:</text>\n",
       "<polyline fill=\"none\" points=\"141.1357,-324.5 141.1357,-368.5 \" stroke=\"#000000\"/>\n",
       "<text fill=\"#000000\" font-family=\"Times,serif\" font-size=\"14.00\" text-anchor=\"middle\" x=\"186.2036\" y=\"-353.3\">(None, 1, 11)</text>\n",
       "<polyline fill=\"none\" points=\"141.1357,-346.5 231.2715,-346.5 \" stroke=\"#000000\"/>\n",
       "<text fill=\"#000000\" font-family=\"Times,serif\" font-size=\"14.00\" text-anchor=\"middle\" x=\"186.2036\" y=\"-331.3\">(None, 1, 11)</text>\n",
       "</g>\n",
       "<!-- 4639932368 -->\n",
       "<g class=\"node\" id=\"node2\">\n",
       "<title>4639932368</title>\n",
       "<polygon fill=\"none\" points=\"0,-243.5 0,-287.5 238.5449,-287.5 238.5449,-243.5 0,-243.5\" stroke=\"#000000\"/>\n",
       "<text fill=\"#000000\" font-family=\"Times,serif\" font-size=\"14.00\" text-anchor=\"middle\" x=\"42.6138\" y=\"-261.3\">SimpleRNN</text>\n",
       "<polyline fill=\"none\" points=\"85.2275,-243.5 85.2275,-287.5 \" stroke=\"#000000\"/>\n",
       "<text fill=\"#000000\" font-family=\"Times,serif\" font-size=\"14.00\" text-anchor=\"middle\" x=\"113.062\" y=\"-272.3\">input:</text>\n",
       "<polyline fill=\"none\" points=\"85.2275,-265.5 140.8965,-265.5 \" stroke=\"#000000\"/>\n",
       "<text fill=\"#000000\" font-family=\"Times,serif\" font-size=\"14.00\" text-anchor=\"middle\" x=\"113.062\" y=\"-250.3\">output:</text>\n",
       "<polyline fill=\"none\" points=\"140.8965,-243.5 140.8965,-287.5 \" stroke=\"#000000\"/>\n",
       "<text fill=\"#000000\" font-family=\"Times,serif\" font-size=\"14.00\" text-anchor=\"middle\" x=\"189.4644\" y=\"-272.3\">(None, 1, 11)</text>\n",
       "<polyline fill=\"none\" points=\"140.8965,-265.5 238.5449,-265.5 \" stroke=\"#000000\"/>\n",
       "<text fill=\"#000000\" font-family=\"Times,serif\" font-size=\"14.00\" text-anchor=\"middle\" x=\"189.7207\" y=\"-250.3\">(None, 1, 100)</text>\n",
       "</g>\n",
       "<!-- 4639928784&#45;&gt;4639932368 -->\n",
       "<g class=\"edge\" id=\"edge1\">\n",
       "<title>4639928784-&gt;4639932368</title>\n",
       "<path d=\"M119.2725,-324.3664C119.2725,-316.1516 119.2725,-306.6579 119.2725,-297.7252\" fill=\"none\" stroke=\"#000000\"/>\n",
       "<polygon fill=\"#000000\" points=\"122.7726,-297.6068 119.2725,-287.6068 115.7726,-297.6069 122.7726,-297.6068\" stroke=\"#000000\"/>\n",
       "</g>\n",
       "<!-- 4639888944 -->\n",
       "<g class=\"node\" id=\"node3\">\n",
       "<title>4639888944</title>\n",
       "<polygon fill=\"none\" points=\"0,-162.5 0,-206.5 238.5449,-206.5 238.5449,-162.5 0,-162.5\" stroke=\"#000000\"/>\n",
       "<text fill=\"#000000\" font-family=\"Times,serif\" font-size=\"14.00\" text-anchor=\"middle\" x=\"42.6138\" y=\"-180.3\">SimpleRNN</text>\n",
       "<polyline fill=\"none\" points=\"85.2275,-162.5 85.2275,-206.5 \" stroke=\"#000000\"/>\n",
       "<text fill=\"#000000\" font-family=\"Times,serif\" font-size=\"14.00\" text-anchor=\"middle\" x=\"113.062\" y=\"-191.3\">input:</text>\n",
       "<polyline fill=\"none\" points=\"85.2275,-184.5 140.8965,-184.5 \" stroke=\"#000000\"/>\n",
       "<text fill=\"#000000\" font-family=\"Times,serif\" font-size=\"14.00\" text-anchor=\"middle\" x=\"113.062\" y=\"-169.3\">output:</text>\n",
       "<polyline fill=\"none\" points=\"140.8965,-162.5 140.8965,-206.5 \" stroke=\"#000000\"/>\n",
       "<text fill=\"#000000\" font-family=\"Times,serif\" font-size=\"14.00\" text-anchor=\"middle\" x=\"189.7207\" y=\"-191.3\">(None, 1, 100)</text>\n",
       "<polyline fill=\"none\" points=\"140.8965,-184.5 238.5449,-184.5 \" stroke=\"#000000\"/>\n",
       "<text fill=\"#000000\" font-family=\"Times,serif\" font-size=\"14.00\" text-anchor=\"middle\" x=\"189.7207\" y=\"-169.3\">(None, 1, 100)</text>\n",
       "</g>\n",
       "<!-- 4639932368&#45;&gt;4639888944 -->\n",
       "<g class=\"edge\" id=\"edge2\">\n",
       "<title>4639932368-&gt;4639888944</title>\n",
       "<path d=\"M119.2725,-243.3664C119.2725,-235.1516 119.2725,-225.6579 119.2725,-216.7252\" fill=\"none\" stroke=\"#000000\"/>\n",
       "<polygon fill=\"#000000\" points=\"122.7726,-216.6068 119.2725,-206.6068 115.7726,-216.6069 122.7726,-216.6068\" stroke=\"#000000\"/>\n",
       "</g>\n",
       "<!-- 4639890064 -->\n",
       "<g class=\"node\" id=\"node4\">\n",
       "<title>4639890064</title>\n",
       "<polygon fill=\"none\" points=\"0,-81.5 0,-125.5 238.5449,-125.5 238.5449,-81.5 0,-81.5\" stroke=\"#000000\"/>\n",
       "<text fill=\"#000000\" font-family=\"Times,serif\" font-size=\"14.00\" text-anchor=\"middle\" x=\"42.6138\" y=\"-99.3\">SimpleRNN</text>\n",
       "<polyline fill=\"none\" points=\"85.2275,-81.5 85.2275,-125.5 \" stroke=\"#000000\"/>\n",
       "<text fill=\"#000000\" font-family=\"Times,serif\" font-size=\"14.00\" text-anchor=\"middle\" x=\"113.062\" y=\"-110.3\">input:</text>\n",
       "<polyline fill=\"none\" points=\"85.2275,-103.5 140.8965,-103.5 \" stroke=\"#000000\"/>\n",
       "<text fill=\"#000000\" font-family=\"Times,serif\" font-size=\"14.00\" text-anchor=\"middle\" x=\"113.062\" y=\"-88.3\">output:</text>\n",
       "<polyline fill=\"none\" points=\"140.8965,-81.5 140.8965,-125.5 \" stroke=\"#000000\"/>\n",
       "<text fill=\"#000000\" font-family=\"Times,serif\" font-size=\"14.00\" text-anchor=\"middle\" x=\"189.7207\" y=\"-110.3\">(None, 1, 100)</text>\n",
       "<polyline fill=\"none\" points=\"140.8965,-103.5 238.5449,-103.5 \" stroke=\"#000000\"/>\n",
       "<text fill=\"#000000\" font-family=\"Times,serif\" font-size=\"14.00\" text-anchor=\"middle\" x=\"189.7207\" y=\"-88.3\">(None, 100)</text>\n",
       "</g>\n",
       "<!-- 4639888944&#45;&gt;4639890064 -->\n",
       "<g class=\"edge\" id=\"edge3\">\n",
       "<title>4639888944-&gt;4639890064</title>\n",
       "<path d=\"M119.2725,-162.3664C119.2725,-154.1516 119.2725,-144.6579 119.2725,-135.7252\" fill=\"none\" stroke=\"#000000\"/>\n",
       "<polygon fill=\"#000000\" points=\"122.7726,-135.6068 119.2725,-125.6068 115.7726,-135.6069 122.7726,-135.6068\" stroke=\"#000000\"/>\n",
       "</g>\n",
       "<!-- 4639890456 -->\n",
       "<g class=\"node\" id=\"node5\">\n",
       "<title>4639890456</title>\n",
       "<polygon fill=\"none\" points=\"24.1206,-.5 24.1206,-44.5 214.4243,-44.5 214.4243,-.5 24.1206,-.5\" stroke=\"#000000\"/>\n",
       "<text fill=\"#000000\" font-family=\"Times,serif\" font-size=\"14.00\" text-anchor=\"middle\" x=\"49.6138\" y=\"-18.3\">Dense</text>\n",
       "<polyline fill=\"none\" points=\"75.1069,-.5 75.1069,-44.5 \" stroke=\"#000000\"/>\n",
       "<text fill=\"#000000\" font-family=\"Times,serif\" font-size=\"14.00\" text-anchor=\"middle\" x=\"102.9414\" y=\"-29.3\">input:</text>\n",
       "<polyline fill=\"none\" points=\"75.1069,-22.5 130.7759,-22.5 \" stroke=\"#000000\"/>\n",
       "<text fill=\"#000000\" font-family=\"Times,serif\" font-size=\"14.00\" text-anchor=\"middle\" x=\"102.9414\" y=\"-7.3\">output:</text>\n",
       "<polyline fill=\"none\" points=\"130.7759,-.5 130.7759,-44.5 \" stroke=\"#000000\"/>\n",
       "<text fill=\"#000000\" font-family=\"Times,serif\" font-size=\"14.00\" text-anchor=\"middle\" x=\"172.6001\" y=\"-29.3\">(None, 100)</text>\n",
       "<polyline fill=\"none\" points=\"130.7759,-22.5 214.4243,-22.5 \" stroke=\"#000000\"/>\n",
       "<text fill=\"#000000\" font-family=\"Times,serif\" font-size=\"14.00\" text-anchor=\"middle\" x=\"172.6001\" y=\"-7.3\">(None, 1)</text>\n",
       "</g>\n",
       "<!-- 4639890064&#45;&gt;4639890456 -->\n",
       "<g class=\"edge\" id=\"edge4\">\n",
       "<title>4639890064-&gt;4639890456</title>\n",
       "<path d=\"M119.2725,-81.3664C119.2725,-73.1516 119.2725,-63.6579 119.2725,-54.7252\" fill=\"none\" stroke=\"#000000\"/>\n",
       "<polygon fill=\"#000000\" points=\"122.7726,-54.6068 119.2725,-44.6068 115.7726,-54.6069 122.7726,-54.6068\" stroke=\"#000000\"/>\n",
       "</g>\n",
       "</g>\n",
       "</svg>"
      ],
      "text/plain": [
       "<IPython.core.display.SVG object>"
      ]
     },
     "execution_count": 13,
     "metadata": {},
     "output_type": "execute_result"
    }
   ],
   "source": [
    "arch = model_to_dot(model, show_shapes=True, show_layer_names=False)\n",
    "arch.write_pdf('results/simple-rnn-arch.pdf')\n",
    "SVG(arch.create(prog='dot', format='svg'))"
   ]
  },
  {
   "cell_type": "markdown",
   "metadata": {},
   "source": [
    "# Experiment"
   ]
  },
  {
   "cell_type": "code",
   "execution_count": 14,
   "metadata": {},
   "outputs": [
    {
     "name": "stdout",
     "output_type": "stream",
     "text": [
      "Train on 21161 samples, validate on 767 samples\n",
      "Epoch 1/50\n",
      " - 1s - loss: 0.0026 - val_loss: 0.0029\n",
      "Epoch 2/50\n",
      " - 0s - loss: 0.0011 - val_loss: 0.0014\n",
      "Epoch 3/50\n",
      " - 0s - loss: 0.0017 - val_loss: 3.8284e-04\n",
      "Epoch 4/50\n",
      " - 0s - loss: 6.5679e-04 - val_loss: 9.0457e-05\n",
      "Epoch 5/50\n",
      " - 0s - loss: 3.1943e-04 - val_loss: 1.9588e-04\n",
      "Epoch 6/50\n",
      " - 0s - loss: 3.7934e-04 - val_loss: 4.4063e-05\n",
      "Epoch 7/50\n",
      " - 0s - loss: 2.4440e-04 - val_loss: 1.2111e-04\n",
      "Epoch 8/50\n",
      " - 0s - loss: 3.3265e-04 - val_loss: 4.5225e-05\n",
      "Epoch 9/50\n",
      " - 0s - loss: 2.6016e-04 - val_loss: 7.9304e-05\n",
      "Epoch 10/50\n",
      " - 0s - loss: 3.0635e-04 - val_loss: 6.0387e-05\n",
      "Epoch 11/50\n",
      " - 0s - loss: 2.8386e-04 - val_loss: 6.2018e-05\n",
      "Epoch 12/50\n",
      " - 0s - loss: 2.8976e-04 - val_loss: 6.2791e-05\n",
      "Epoch 13/50\n",
      " - 0s - loss: 2.8896e-04 - val_loss: 5.7826e-05\n",
      "Epoch 14/50\n",
      " - 0s - loss: 2.8325e-04 - val_loss: 5.7717e-05\n",
      "Epoch 15/50\n",
      " - 0s - loss: 2.8307e-04 - val_loss: 5.5387e-05\n",
      "Epoch 16/50\n",
      " - 0s - loss: 2.7892e-04 - val_loss: 5.3955e-05\n",
      "Epoch 17/50\n",
      " - 0s - loss: 2.7662e-04 - val_loss: 5.2935e-05\n",
      "Epoch 18/50\n",
      " - 0s - loss: 2.7416e-04 - val_loss: 5.1882e-05\n",
      "Epoch 19/50\n",
      " - 0s - loss: 2.7170e-04 - val_loss: 5.1391e-05\n",
      "Epoch 20/50\n",
      " - 0s - loss: 2.7012e-04 - val_loss: 5.1103e-05\n",
      "Epoch 21/50\n",
      " - 0s - loss: 2.6838e-04 - val_loss: 5.1184e-05\n",
      "Epoch 22/50\n",
      " - 0s - loss: 2.6742e-04 - val_loss: 5.1765e-05\n",
      "Epoch 23/50\n",
      " - 0s - loss: 2.6696e-04 - val_loss: 5.2704e-05\n",
      "Epoch 24/50\n",
      " - 0s - loss: 2.6712e-04 - val_loss: 5.4317e-05\n",
      "Epoch 25/50\n",
      " - 0s - loss: 2.6793e-04 - val_loss: 5.6817e-05\n",
      "Epoch 26/50\n",
      " - 0s - loss: 2.6981e-04 - val_loss: 6.0457e-05\n",
      "Epoch 27/50\n",
      " - 0s - loss: 2.7254e-04 - val_loss: 6.5852e-05\n",
      "Epoch 28/50\n",
      " - 0s - loss: 2.7667e-04 - val_loss: 7.4468e-05\n",
      "Epoch 29/50\n",
      " - 0s - loss: 2.8258e-04 - val_loss: 7.9149e-05\n",
      "Epoch 30/50\n",
      " - 0s - loss: 2.8861e-04 - val_loss: 6.8289e-05\n",
      "Epoch 31/50\n",
      " - 0s - loss: 2.9071e-04 - val_loss: 4.6730e-05\n",
      "Epoch 32/50\n",
      " - 0s - loss: 2.4560e-04 - val_loss: 9.7371e-05\n",
      "Epoch 33/50\n",
      " - 0s - loss: 3.0789e-04 - val_loss: 7.2766e-05\n",
      "Epoch 34/50\n",
      " - 0s - loss: 3.0395e-04 - val_loss: 4.7210e-05\n",
      "Epoch 35/50\n",
      " - 0s - loss: 2.5050e-04 - val_loss: 7.8711e-05\n",
      "Epoch 36/50\n",
      " - 0s - loss: 2.9468e-04 - val_loss: 7.7899e-05\n",
      "Epoch 37/50\n",
      " - 0s - loss: 2.8137e-04 - val_loss: 5.3098e-05\n",
      "Epoch 38/50\n",
      " - 0s - loss: 2.6369e-04 - val_loss: 8.2947e-05\n",
      "Epoch 39/50\n",
      " - 0s - loss: 2.8497e-04 - val_loss: 9.7912e-05\n",
      "Epoch 40/50\n",
      " - 0s - loss: 2.9878e-04 - val_loss: 6.0408e-05\n",
      "Epoch 41/50\n",
      " - 0s - loss: 2.6654e-04 - val_loss: 8.0232e-05\n",
      "Epoch 42/50\n",
      " - 0s - loss: 2.8700e-04 - val_loss: 1.3693e-04\n",
      "Epoch 43/50\n",
      " - 0s - loss: 3.0620e-04 - val_loss: 1.1226e-04\n",
      "Epoch 44/50\n",
      " - 0s - loss: 3.0903e-04 - val_loss: 6.2343e-05\n",
      "Epoch 45/50\n",
      " - 0s - loss: 2.6274e-04 - val_loss: 9.8801e-05\n",
      "Epoch 46/50\n",
      " - 0s - loss: 2.9613e-04 - val_loss: 1.2981e-04\n",
      "Epoch 47/50\n",
      " - 0s - loss: 3.0769e-04 - val_loss: 7.9037e-05\n",
      "Epoch 48/50\n",
      " - 0s - loss: 2.7306e-04 - val_loss: 8.8056e-05\n",
      "Epoch 49/50\n",
      " - 0s - loss: 2.9540e-04 - val_loss: 1.8329e-04\n",
      "Epoch 50/50\n",
      " - 0s - loss: 3.2084e-04 - val_loss: 1.1781e-04\n"
     ]
    }
   ],
   "source": [
    "history = model.fit(X_train, y_train, epochs=50, batch_size=1000, validation_data=(X_test, y_test), verbose=2, shuffle=False)"
   ]
  },
  {
   "cell_type": "code",
   "execution_count": 15,
   "metadata": {},
   "outputs": [],
   "source": [
    "results = pd.DataFrame([history.history['loss'], history.history['val_loss']], index=['train', 'validation']).T"
   ]
  },
  {
   "cell_type": "code",
   "execution_count": 16,
   "metadata": {},
   "outputs": [
    {
     "data": {
      "text/plain": [
       "Text(0.5,0,'Epoch')"
      ]
     },
     "execution_count": 16,
     "metadata": {},
     "output_type": "execute_result"
    },
    {
     "data": {
      "image/png": "[encoded data removed]",
      "text/plain": [
       "<matplotlib.figure.Figure at 0x1148fb160>"
      ]
     },
     "metadata": {},
     "output_type": "display_data"
    }
   ],
   "source": [
    "ax = results.plot()\n",
    "ax.set_ylabel('Mean Squared Error')\n",
    "ax.set_xlabel('Epoch')"
   ]
  },
  {
   "cell_type": "markdown",
   "metadata": {},
   "source": [
    "# Train Error"
   ]
  },
  {
   "cell_type": "code",
   "execution_count": 17,
   "metadata": {},
   "outputs": [],
   "source": [
    "train_pred = model.predict(X_train).reshape(-1)"
   ]
  },
  {
   "cell_type": "code",
   "execution_count": 18,
   "metadata": {},
   "outputs": [
    {
     "data": {
      "text/plain": [
       "313.47498992593665"
      ]
     },
     "execution_count": 18,
     "metadata": {},
     "output_type": "execute_result"
    }
   ],
   "source": [
    "train_err = mean_squared_error(y_train * 1000, train_pred * 1000)\n",
    "train_err"
   ]
  },
  {
   "cell_type": "code",
   "execution_count": 19,
   "metadata": {},
   "outputs": [],
   "source": [
    "train_df = pd.DataFrame([y_train, train_pred], index=['Truth', 'Predictions']).T * 1000"
   ]
  },
  {
   "cell_type": "code",
   "execution_count": 20,
   "metadata": {},
   "outputs": [
    {
     "data": {
      "image/png": "[encoded data removed]",
      "text/plain": [
       "<matplotlib.figure.Figure at 0x11663e6a0>"
      ]
     },
     "metadata": {},
     "output_type": "display_data"
    }
   ],
   "source": [
    "ax = train_df.plot(figsize=(16, 4))\n",
    "ax.set_ylabel('$\\MWHr')\n",
    "ax.set_xlabel('Time Step')\n",
    "plt.savefig('results/simple-rnn-train.pdf')\n",
    "plt.savefig('results/simple-rnn-train.svg')"
   ]
  },
  {
   "cell_type": "markdown",
   "metadata": {},
   "source": [
    "# Test Error"
   ]
  },
  {
   "cell_type": "code",
   "execution_count": 21,
   "metadata": {},
   "outputs": [],
   "source": [
    "test_pred = model.predict(X_test).reshape(-1)"
   ]
  },
  {
   "cell_type": "code",
   "execution_count": 22,
   "metadata": {},
   "outputs": [
    {
     "data": {
      "text/plain": [
       "117.81402296176717"
      ]
     },
     "execution_count": 22,
     "metadata": {},
     "output_type": "execute_result"
    }
   ],
   "source": [
    "test_err = mean_squared_error(y_test * 1000, test_pred * 1000)\n",
    "test_err"
   ]
  },
  {
   "cell_type": "code",
   "execution_count": 23,
   "metadata": {},
   "outputs": [],
   "source": [
    "test_df = pd.DataFrame([y_test, test_pred], index=['Truth', 'Predictions']).T * 1000"
   ]
  },
  {
   "cell_type": "code",
   "execution_count": 24,
   "metadata": {},
   "outputs": [
    {
     "data": {
      "image/png": "[encoded data removed]",
      "text/plain": [
       "<matplotlib.figure.Figure at 0x11671e828>"
      ]
     },
     "metadata": {},
     "output_type": "display_data"
    }
   ],
   "source": [
    "ax = test_df.plot(figsize=(16, 4))\n",
    "ax.set_ylabel('$\\MWHr')\n",
    "ax.set_xlabel('Time Step')\n",
    "plt.savefig('results/simple-rnn-test.pdf')\n",
    "plt.savefig('results/simple-rnn-test.svg')"
   ]
  },
  {
   "cell_type": "markdown",
   "metadata": {},
   "source": [
    "# Results"
   ]
  },
  {
   "cell_type": "code",
   "execution_count": 25,
   "metadata": {},
   "outputs": [
    {
     "data": {
      "text/plain": [
       "Train    313.474990\n",
       "Test     117.814023\n",
       "dtype: float64"
      ]
     },
     "execution_count": 25,
     "metadata": {},
     "output_type": "execute_result"
    }
   ],
   "source": [
    "results = pd.Series([train_err, test_err], index=['Train', 'Test'])\n",
    "results"
   ]
  },
  {
   "cell_type": "code",
   "execution_count": 26,
   "metadata": {},
   "outputs": [],
   "source": [
    "results.to_csv('results/simple-rnn-mse.csv')"
   ]
  },
  {
   "cell_type": "markdown",
   "metadata": {},
   "source": [
    " "
   ]
  }
 ],
 "metadata": {
  "kernelspec": {
   "display_name": "Python 3",
   "language": "python",
   "name": "python3"
  },
  "language_info": {
   "codemirror_mode": {
    "name": "ipython",
    "version": 3
   },
   "file_extension": ".py",
   "mimetype": "text/x-python",
   "name": "python",
   "nbconvert_exporter": "python",
   "pygments_lexer": "ipython3",
   "version": "3.6.4"
  },
  "widgets": {
   "application/vnd.jupyter.widget-state+json": {
    "state": {
     "02a4ae165f7f4d18b175960dc059beed": {
      "model_module": "@jupyter-widgets/controls",
      "model_module_version": "1.1.0",
      "model_name": "ProgressStyleModel",
      "state": {
       "description_width": ""
      }
     },
     "076b47e5804345028e7030dad5de1747": {
      "model_module": "@jupyter-widgets/base",
      "model_module_version": "1.0.0",
      "model_name": "LayoutModel",
      "state": {}
     },
     "0a58a3a78a884709b8936a7bf8bb8522": {
      "model_module": "@jupyter-widgets/controls",
      "model_module_version": "1.1.0",
      "model_name": "DescriptionStyleModel",
      "state": {
       "description_width": ""
      }
     },
     "10400e52d77b4c678bb330ff697f8c58": {
      "model_module": "@jupyter-widgets/controls",
      "model_module_version": "1.1.0",
      "model_name": "ProgressStyleModel",
      "state": {
       "description_width": ""
      }
     },
     "1360475d03414b09b95866aa7676f9a1": {
      "model_module": "@jupyter-widgets/controls",
      "model_module_version": "1.1.0",
      "model_name": "HTMLModel",
      "state": {
       "layout": "IPY_MODEL_d8db57675c514c4eb15aecc67fdf0154",
       "style": "IPY_MODEL_755099150bd2485b9736e21836bde211",
       "value": "  0% 0/12 [00:00&lt;?, ?interval/s]"
      }
     },
     "1a392dec047240f99a77dfa54ca3b24a": {
      "model_module": "@jupyter-widgets/controls",
      "model_module_version": "1.1.0",
      "model_name": "HTMLModel",
      "state": {
       "layout": "IPY_MODEL_83f3035b28d048d6ba1d68499b1d47be",
       "style": "IPY_MODEL_0a58a3a78a884709b8936a7bf8bb8522",
       "value": "  0% 0/30 [00:00&lt;?, ?experiment/s]"
      }
     },
     "20fd7abfa28b4365b7d14aee01634185": {
      "model_module": "@jupyter-widgets/controls",
      "model_module_version": "1.1.0",
      "model_name": "HBoxModel",
      "state": {
       "children": [
        "IPY_MODEL_cb260a2ec4dc40f9a756296c0bd170db",
        "IPY_MODEL_433e1a54bc2c4c4d90dabd669a6b2da4"
       ],
       "layout": "IPY_MODEL_acee0a66d5084427a917ef81ed3ae689"
      }
     },
     "27caab26a3bc44189bf43331f3ea6835": {
      "model_module": "@jupyter-widgets/controls",
      "model_module_version": "1.1.0",
      "model_name": "HTMLModel",
      "state": {
       "layout": "IPY_MODEL_acc960591252424f88207e71fdc94935",
       "style": "IPY_MODEL_3a0fd6e2e61c47cc88cbff284696ad53",
       "value": " 80% 24/30 [1:02:32&lt;15:38, 156.36s/experiment]"
      }
     },
     "2df27ee0d2a74ed9a65c3f2ad5744e0e": {
      "model_module": "@jupyter-widgets/controls",
      "model_module_version": "1.1.0",
      "model_name": "ProgressStyleModel",
      "state": {
       "description_width": ""
      }
     },
     "2ff1dfd0affe42589593aefe51e61eab": {
      "model_module": "@jupyter-widgets/base",
      "model_module_version": "1.0.0",
      "model_name": "LayoutModel",
      "state": {}
     },
     "308c194343ba444ca4c2d8dd14e0ab32": {
      "model_module": "@jupyter-widgets/controls",
      "model_module_version": "1.1.0",
      "model_name": "DescriptionStyleModel",
      "state": {
       "description_width": ""
      }
     },
     "35271685582b43209ecc36befce12669": {
      "model_module": "@jupyter-widgets/controls",
      "model_module_version": "1.1.0",
      "model_name": "HBoxModel",
      "state": {
       "children": [
        "IPY_MODEL_3bf0ecf8caa143d98e5fb7d89e643b07",
        "IPY_MODEL_1a392dec047240f99a77dfa54ca3b24a"
       ],
       "layout": "IPY_MODEL_39653e51f70543a58d319997543a49af"
      }
     },
     "391adb8920b9449c8b5edeaebdd41f33": {
      "model_module": "@jupyter-widgets/controls",
      "model_module_version": "1.1.0",
      "model_name": "IntProgressModel",
      "state": {
       "layout": "IPY_MODEL_7504de1353ac4750806ba2ce751694d6",
       "max": 12,
       "style": "IPY_MODEL_f2c44e513bff41febeb3dd4af0df6e06"
      }
     },
     "39653e51f70543a58d319997543a49af": {
      "model_module": "@jupyter-widgets/base",
      "model_module_version": "1.0.0",
      "model_name": "LayoutModel",
      "state": {}
     },
     "3a0fd6e2e61c47cc88cbff284696ad53": {
      "model_module": "@jupyter-widgets/controls",
      "model_module_version": "1.1.0",
      "model_name": "DescriptionStyleModel",
      "state": {
       "description_width": ""
      }
     },
     "3b8d572c742242798a477c182c8fc171": {
      "model_module": "@jupyter-widgets/base",
      "model_module_version": "1.0.0",
      "model_name": "LayoutModel",
      "state": {}
     },
     "3bf0ecf8caa143d98e5fb7d89e643b07": {
      "model_module": "@jupyter-widgets/controls",
      "model_module_version": "1.1.0",
      "model_name": "IntProgressModel",
      "state": {
       "layout": "IPY_MODEL_3b8d572c742242798a477c182c8fc171",
       "max": 30,
       "style": "IPY_MODEL_cb4ff9fa317046648a582f39ff0ed98b"
      }
     },
     "3c21c1da98a549caab1cae0e3ecad77d": {
      "model_module": "@jupyter-widgets/base",
      "model_module_version": "1.0.0",
      "model_name": "LayoutModel",
      "state": {}
     },
     "432ce912ceb642a898f1bfc7e15eff72": {
      "model_module": "@jupyter-widgets/controls",
      "model_module_version": "1.1.0",
      "model_name": "DescriptionStyleModel",
      "state": {
       "description_width": ""
      }
     },
     "433e1a54bc2c4c4d90dabd669a6b2da4": {
      "model_module": "@jupyter-widgets/controls",
      "model_module_version": "1.1.0",
      "model_name": "HTMLModel",
      "state": {
       "layout": "IPY_MODEL_5790b3df5eb8441380cc8b1c021b461c",
       "style": "IPY_MODEL_adbfc0c0d7714550be8ace61138da121",
       "value": "100% 30/30 [7:20:41&lt;00:00, 881.38s/experiment]"
      }
     },
     "460758bbe084429a89c868ba4fcad7a2": {
      "model_module": "@jupyter-widgets/controls",
      "model_module_version": "1.1.0",
      "model_name": "HBoxModel",
      "state": {
       "children": [
        "IPY_MODEL_8a5c79381df349eaaf67368e3d341298",
        "IPY_MODEL_e3d83e1c3eaf4605854af649cbf73271"
       ],
       "layout": "IPY_MODEL_2ff1dfd0affe42589593aefe51e61eab"
      }
     },
     "4850afc1ffa84fd1a4e6fa65d3a108a7": {
      "model_module": "@jupyter-widgets/base",
      "model_module_version": "1.0.0",
      "model_name": "LayoutModel",
      "state": {}
     },
     "496df30ccc404d26960a7784a4b1baa5": {
      "model_module": "@jupyter-widgets/controls",
      "model_module_version": "1.1.0",
      "model_name": "HTMLModel",
      "state": {
       "layout": "IPY_MODEL_a6e788fcc2134d4e9eb587d75ce712f6",
       "style": "IPY_MODEL_308c194343ba444ca4c2d8dd14e0ab32",
       "value": "  0% 0/30 [00:00&lt;?, ?experiment/s]"
      }
     },
     "5790b3df5eb8441380cc8b1c021b461c": {
      "model_module": "@jupyter-widgets/base",
      "model_module_version": "1.0.0",
      "model_name": "LayoutModel",
      "state": {}
     },
     "73be8e8de0a9412bb4453627de8465e9": {
      "model_module": "@jupyter-widgets/controls",
      "model_module_version": "1.1.0",
      "model_name": "IntProgressModel",
      "state": {
       "bar_style": "danger",
       "layout": "IPY_MODEL_ff5c8350864845969058116cf6a102b8",
       "max": 12,
       "style": "IPY_MODEL_10400e52d77b4c678bb330ff697f8c58"
      }
     },
     "7504de1353ac4750806ba2ce751694d6": {
      "model_module": "@jupyter-widgets/base",
      "model_module_version": "1.0.0",
      "model_name": "LayoutModel",
      "state": {}
     },
     "755099150bd2485b9736e21836bde211": {
      "model_module": "@jupyter-widgets/controls",
      "model_module_version": "1.1.0",
      "model_name": "DescriptionStyleModel",
      "state": {
       "description_width": ""
      }
     },
     "7b138f75dc404046a4a15db35897f35e": {
      "model_module": "@jupyter-widgets/base",
      "model_module_version": "1.0.0",
      "model_name": "LayoutModel",
      "state": {}
     },
     "81743f3dcda14543831e53ae0d93591a": {
      "model_module": "@jupyter-widgets/base",
      "model_module_version": "1.0.0",
      "model_name": "LayoutModel",
      "state": {}
     },
     "83f3035b28d048d6ba1d68499b1d47be": {
      "model_module": "@jupyter-widgets/base",
      "model_module_version": "1.0.0",
      "model_name": "LayoutModel",
      "state": {}
     },
     "8a5c79381df349eaaf67368e3d341298": {
      "model_module": "@jupyter-widgets/controls",
      "model_module_version": "1.1.0",
      "model_name": "IntProgressModel",
      "state": {
       "bar_style": "danger",
       "layout": "IPY_MODEL_f529f4d7440b4b4fbb6142f487271d15",
       "max": 12,
       "style": "IPY_MODEL_fbde54ad608f4f09adf1fad9f37cc614"
      }
     },
     "8a9ae41ae53e4600ba94726ab2560630": {
      "model_module": "@jupyter-widgets/controls",
      "model_module_version": "1.1.0",
      "model_name": "IntProgressModel",
      "state": {
       "bar_style": "danger",
       "layout": "IPY_MODEL_e8889d985389404a8b9ae15a2c555aa6",
       "max": 30,
       "style": "IPY_MODEL_02a4ae165f7f4d18b175960dc059beed",
       "value": 24
      }
     },
     "8afe3d9c539541b4920f42fd73908e59": {
      "model_module": "@jupyter-widgets/controls",
      "model_module_version": "1.1.0",
      "model_name": "ProgressStyleModel",
      "state": {
       "description_width": ""
      }
     },
     "8cb01fb1279343219e9d8d6ecbe51c98": {
      "model_module": "@jupyter-widgets/controls",
      "model_module_version": "1.1.0",
      "model_name": "HBoxModel",
      "state": {
       "children": [
        "IPY_MODEL_391adb8920b9449c8b5edeaebdd41f33",
        "IPY_MODEL_1360475d03414b09b95866aa7676f9a1"
       ],
       "layout": "IPY_MODEL_7b138f75dc404046a4a15db35897f35e"
      }
     },
     "9024ac17aedb49908b63666cfe32656d": {
      "model_module": "@jupyter-widgets/controls",
      "model_module_version": "1.1.0",
      "model_name": "HBoxModel",
      "state": {
       "children": [
        "IPY_MODEL_73be8e8de0a9412bb4453627de8465e9",
        "IPY_MODEL_db6a5c8b4ce249988ec6f5e6a660a32e"
       ],
       "layout": "IPY_MODEL_c558edafdc03460aabac068820b0c2ee"
      }
     },
     "9431594f28ab44dca0d04c0b92e16ecb": {
      "model_module": "@jupyter-widgets/base",
      "model_module_version": "1.0.0",
      "model_name": "LayoutModel",
      "state": {}
     },
     "9b66a6beb2eb4730a82019abcf671856": {
      "model_module": "@jupyter-widgets/base",
      "model_module_version": "1.0.0",
      "model_name": "LayoutModel",
      "state": {}
     },
     "a6e788fcc2134d4e9eb587d75ce712f6": {
      "model_module": "@jupyter-widgets/base",
      "model_module_version": "1.0.0",
      "model_name": "LayoutModel",
      "state": {}
     },
     "ab39fa72c3c44ed1a047c6a837c5d765": {
      "model_module": "@jupyter-widgets/controls",
      "model_module_version": "1.1.0",
      "model_name": "HBoxModel",
      "state": {
       "children": [
        "IPY_MODEL_8a9ae41ae53e4600ba94726ab2560630",
        "IPY_MODEL_27caab26a3bc44189bf43331f3ea6835"
       ],
       "layout": "IPY_MODEL_9431594f28ab44dca0d04c0b92e16ecb"
      }
     },
     "acc960591252424f88207e71fdc94935": {
      "model_module": "@jupyter-widgets/base",
      "model_module_version": "1.0.0",
      "model_name": "LayoutModel",
      "state": {}
     },
     "acee0a66d5084427a917ef81ed3ae689": {
      "model_module": "@jupyter-widgets/base",
      "model_module_version": "1.0.0",
      "model_name": "LayoutModel",
      "state": {}
     },
     "adbfc0c0d7714550be8ace61138da121": {
      "model_module": "@jupyter-widgets/controls",
      "model_module_version": "1.1.0",
      "model_name": "DescriptionStyleModel",
      "state": {
       "description_width": ""
      }
     },
     "b20cdbad9f714d9d9e3f5e16a2d0e3f7": {
      "model_module": "@jupyter-widgets/controls",
      "model_module_version": "1.1.0",
      "model_name": "IntProgressModel",
      "state": {
       "bar_style": "danger",
       "layout": "IPY_MODEL_076b47e5804345028e7030dad5de1747",
       "max": 30,
       "style": "IPY_MODEL_8afe3d9c539541b4920f42fd73908e59"
      }
     },
     "bcdf02c702dd4da7b4dc9e8e9a3fccd7": {
      "model_module": "@jupyter-widgets/controls",
      "model_module_version": "1.1.0",
      "model_name": "HBoxModel",
      "state": {
       "children": [
        "IPY_MODEL_b20cdbad9f714d9d9e3f5e16a2d0e3f7",
        "IPY_MODEL_496df30ccc404d26960a7784a4b1baa5"
       ],
       "layout": "IPY_MODEL_3c21c1da98a549caab1cae0e3ecad77d"
      }
     },
     "bfcc555edbf1478fa8b96b61247bce65": {
      "model_module": "@jupyter-widgets/controls",
      "model_module_version": "1.1.0",
      "model_name": "DescriptionStyleModel",
      "state": {
       "description_width": ""
      }
     },
     "c558edafdc03460aabac068820b0c2ee": {
      "model_module": "@jupyter-widgets/base",
      "model_module_version": "1.0.0",
      "model_name": "LayoutModel",
      "state": {}
     },
     "cb260a2ec4dc40f9a756296c0bd170db": {
      "model_module": "@jupyter-widgets/controls",
      "model_module_version": "1.1.0",
      "model_name": "IntProgressModel",
      "state": {
       "bar_style": "success",
       "layout": "IPY_MODEL_9b66a6beb2eb4730a82019abcf671856",
       "max": 30,
       "style": "IPY_MODEL_2df27ee0d2a74ed9a65c3f2ad5744e0e",
       "value": 30
      }
     },
     "cb4ff9fa317046648a582f39ff0ed98b": {
      "model_module": "@jupyter-widgets/controls",
      "model_module_version": "1.1.0",
      "model_name": "ProgressStyleModel",
      "state": {
       "description_width": ""
      }
     },
     "d8db57675c514c4eb15aecc67fdf0154": {
      "model_module": "@jupyter-widgets/base",
      "model_module_version": "1.0.0",
      "model_name": "LayoutModel",
      "state": {}
     },
     "db6a5c8b4ce249988ec6f5e6a660a32e": {
      "model_module": "@jupyter-widgets/controls",
      "model_module_version": "1.1.0",
      "model_name": "HTMLModel",
      "state": {
       "layout": "IPY_MODEL_4850afc1ffa84fd1a4e6fa65d3a108a7",
       "style": "IPY_MODEL_bfcc555edbf1478fa8b96b61247bce65",
       "value": "  0% 0/12 [00:00&lt;?, ?interval/s]"
      }
     },
     "e3d83e1c3eaf4605854af649cbf73271": {
      "model_module": "@jupyter-widgets/controls",
      "model_module_version": "1.1.0",
      "model_name": "HTMLModel",
      "state": {
       "layout": "IPY_MODEL_81743f3dcda14543831e53ae0d93591a",
       "style": "IPY_MODEL_432ce912ceb642a898f1bfc7e15eff72",
       "value": "  0% 0/12 [00:00&lt;?, ?interval/s]"
      }
     },
     "e8889d985389404a8b9ae15a2c555aa6": {
      "model_module": "@jupyter-widgets/base",
      "model_module_version": "1.0.0",
      "model_name": "LayoutModel",
      "state": {}
     },
     "f2c44e513bff41febeb3dd4af0df6e06": {
      "model_module": "@jupyter-widgets/controls",
      "model_module_version": "1.1.0",
      "model_name": "ProgressStyleModel",
      "state": {
       "description_width": ""
      }
     },
     "f529f4d7440b4b4fbb6142f487271d15": {
      "model_module": "@jupyter-widgets/base",
      "model_module_version": "1.0.0",
      "model_name": "LayoutModel",
      "state": {}
     },
     "fbde54ad608f4f09adf1fad9f37cc614": {
      "model_module": "@jupyter-widgets/controls",
      "model_module_version": "1.1.0",
      "model_name": "ProgressStyleModel",
      "state": {
       "description_width": ""
      }
     },
     "ff5c8350864845969058116cf6a102b8": {
      "model_module": "@jupyter-widgets/base",
      "model_module_version": "1.0.0",
      "model_name": "LayoutModel",
      "state": {}
     }
    },
    "version_major": 2,
    "version_minor": 0
   }
  }
 },
 "nbformat": 4,
 "nbformat_minor": 2
}
